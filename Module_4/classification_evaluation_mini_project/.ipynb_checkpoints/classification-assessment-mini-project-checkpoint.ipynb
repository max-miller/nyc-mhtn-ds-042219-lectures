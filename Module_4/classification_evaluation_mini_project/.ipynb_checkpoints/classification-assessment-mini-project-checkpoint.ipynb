{
 "cells": [
  {
   "cell_type": "markdown",
   "metadata": {},
   "source": [
    "# Applying Classification Modeling\n",
    "\n",
    "The goal of this week's assessment is to find the model which best predicts whether or not a person will default on their credit card payment. In doing so, we want to utilize all of the different tools we have learned over the course: data cleaning, EDA, feature engineering/transformation, feature selection, hyperparameter tuning, and model evaluation. \n",
    "\n",
    "\n",
    "#### Data Set Information:\n",
    "\n",
    "- This dataset contains information on default payments, demographic factors, credit data, history of payment, and bill statements of credit card clients in Taiwan from April 2005 to September 2005.\n",
    "\n",
    "- NT is the abbreviation for New Taiwan. \n",
    "\n",
    "\n",
    "#### Attribute Information:\n",
    "\n",
    "This research employed a binary variable, default payment (Yes = 1, No = 0), as the response variable. This study reviewed the literature and used the following 23 variables as explanatory variables: \n",
    "- X1: Amount of the given credit (NT dollar): it includes both the individual consumer credit and his/her family (supplementary) credit. \n",
    "- X2: Gender (1 = male; 2 = female). \n",
    "- X3: Education (1 = graduate school; 2 = university; 3 = high school; 4 = others). \n",
    "- X4: Marital status (1 = married; 2 = single; 3 = others). \n",
    "- X5: Age (year). \n",
    "- X6 - X11: History of past payment. We tracked the past monthly payment records (from April to September, 2005) as follows: \n",
    "    - X6 = the repayment status in September, 2005; \n",
    "    - X7 = the repayment status in August, 2005; . . .;\n",
    "    - etc...\n",
    "    - X11 = the repayment status in April, 2005. \n",
    "    - The measurement scale for the repayment status is: -1 = pay duly; 1 = payment delay for one month; 2 = payment delay for two months; . . .; 8 = payment delay for eight months; 9 = payment delay for nine months and above. \n",
    "- X12-X17: Amount of bill statement (NT dollar). \n",
    "    - X12 = amount of bill statement in September, 2005;\n",
    "    - etc...\n",
    "    - X13 = amount of bill statement in August, 2005; . . .; \n",
    "    - X17 = amount of bill statement in April, 2005. \n",
    "- X18-X23: Amount of previous payment (NT dollar). \n",
    "    - X18 = amount paid in September, 2005; \n",
    "    - X19 = amount paid in August, 2005; . . .;\n",
    "    - etc...\n",
    "    - X23 = amount paid in April, 2005. \n",
    "\n",
    "\n",
    "\n",
    "\n",
    "You will fit three different models (KNN, Logistic Regression, and Decision Tree Classifier) to predict credit card defaults and use gridsearch to find the best hyperparameters for those models. Then you will compare the performance of those three models on a test set to find the best one.  \n"
   ]
  },
  {
   "cell_type": "markdown",
   "metadata": {},
   "source": [
    "## Process/Expectations\n",
    "\n",
    "- You will be working in pairs for this assessment\n",
    "\n",
    "### Please have ONE notebook and be prepared to explain how you worked with your partner.\n",
    "\n",
    "1. Clean up your data set so that you can perform an EDA. \n",
    "    - This includes handling null values, categorical variables, removing unimportant columns, and removing outliers.\n",
    "2. Perform EDA to identify opportunities to create new features.\n",
    "    - [Great Example of EDA for classification](https://www.kaggle.com/stephaniestallworth/titanic-eda-classification-end-to-end) \n",
    "    - [Using Pairplots with Classification](https://towardsdatascience.com/visualizing-data-with-pair-plots-in-python-f228cf529166)\n",
    "3. Engineer new features. \n",
    "    - Create polynomial and/or interaction features. \n",
    "    - Additionaly, you must also create **at least 2 new features** that are not interactions or polynomial transformations. \n",
    "        - *For example, you can create a new dummy variable that based on the value of a continuous variable (billamount6 >2000) or take the average of some past amounts.*\n",
    "4. Perform some feature selection. \n",
    "    \n",
    "5. You must fit **three** models to your data and tune **at least 1 hyperparameter** per model. \n",
    "6. Using the F-1 Score, evaluate how well your models perform and identify your best model.\n",
    "7. Using information from your EDA process and your model(s) output provide insight as to which borrowers are more likely to deafult\n"
   ]
  },
  {
   "cell_type": "code",
   "execution_count": 63,
   "metadata": {},
   "outputs": [],
   "source": [
    "# import libraries\n",
    "\n",
    "import pandas as pd\n",
    "# more libraries here...\n",
    "import numpy as np\n",
    "import matplotlib.pyplot as plt\n",
    "%matplotlib inline\n",
    "import sklearn\n",
    "import seaborn as sns\n",
    "from sklearn.preprocessing import StandardScaler\n",
    "from sklearn.model_selection import train_test_split\n",
    "from sklearn import metrics\n",
    "pd.set_option('display.max_columns', 300)"
   ]
  },
  {
   "cell_type": "markdown",
   "metadata": {},
   "source": [
    "## 1. Data Cleaning"
   ]
  },
  {
   "cell_type": "code",
   "execution_count": 13,
   "metadata": {},
   "outputs": [],
   "source": [
    "df = pd.read_csv('classification_lab_data.csv')"
   ]
  },
  {
   "cell_type": "code",
   "execution_count": 14,
   "metadata": {},
   "outputs": [],
   "source": [
    "#First, easy steps, turning sex into a proper dummy, with just 0s and 1s\n",
    "#Similarly, should turn education into set of dummies\n",
    "df['SEX'] = df['SEX'] -1\n",
    "educ_dummies = pd.get_dummies(df['EDUCATION'], prefix='edu')\n",
    "df = pd.concat([df,educ_dummies],axis=1)\n",
    "df.drop(['EDUCATION'],axis=1, inplace=True)"
   ]
  },
  {
   "cell_type": "code",
   "execution_count": 16,
   "metadata": {},
   "outputs": [
    {
     "data": {
      "text/plain": [
       "2    12735\n",
       "1    10958\n",
       "3      263\n",
       "0       43\n",
       "Name: MARRIAGE, dtype: int64"
      ]
     },
     "execution_count": 16,
     "metadata": {},
     "output_type": "execute_result"
    }
   ],
   "source": [
    "#Now, what to do with 'MARRIAGE'. I don't understand what the multiple categories are, let's investigate\n",
    "df['MARRIAGE'].value_counts()\n",
    "#We can see that almost everyone falls into the basic categories of married or single\n",
    "#very few people in the 'other' category. My instinct is to turn this into a \n",
    "#dummy, just keep a flag for married and make everyon else 0"
   ]
  },
  {
   "cell_type": "code",
   "execution_count": 17,
   "metadata": {},
   "outputs": [],
   "source": [
    "df['MARRIAGE'] = [1 if x==1 else 0 for x in df['MARRIAGE']]"
   ]
  },
  {
   "cell_type": "code",
   "execution_count": 64,
   "metadata": {},
   "outputs": [
    {
     "data": {
      "text/html": [
       "<div>\n",
       "<style scoped>\n",
       "    .dataframe tbody tr th:only-of-type {\n",
       "        vertical-align: middle;\n",
       "    }\n",
       "\n",
       "    .dataframe tbody tr th {\n",
       "        vertical-align: top;\n",
       "    }\n",
       "\n",
       "    .dataframe thead th {\n",
       "        text-align: right;\n",
       "    }\n",
       "</style>\n",
       "<table border=\"1\" class=\"dataframe\">\n",
       "  <thead>\n",
       "    <tr style=\"text-align: right;\">\n",
       "      <th></th>\n",
       "      <th>LIMIT_BAL</th>\n",
       "      <th>SEX</th>\n",
       "      <th>MARRIAGE</th>\n",
       "      <th>AGE</th>\n",
       "      <th>PAY_0</th>\n",
       "      <th>PAY_2</th>\n",
       "      <th>PAY_3</th>\n",
       "      <th>PAY_4</th>\n",
       "      <th>PAY_5</th>\n",
       "      <th>PAY_6</th>\n",
       "      <th>BILL_AMT1</th>\n",
       "      <th>BILL_AMT2</th>\n",
       "      <th>BILL_AMT3</th>\n",
       "      <th>BILL_AMT4</th>\n",
       "      <th>BILL_AMT5</th>\n",
       "      <th>BILL_AMT6</th>\n",
       "      <th>PAY_AMT1</th>\n",
       "      <th>PAY_AMT2</th>\n",
       "      <th>PAY_AMT3</th>\n",
       "      <th>PAY_AMT4</th>\n",
       "      <th>PAY_AMT5</th>\n",
       "      <th>PAY_AMT6</th>\n",
       "      <th>default payment next month</th>\n",
       "      <th>edu_0</th>\n",
       "      <th>edu_1</th>\n",
       "      <th>edu_2</th>\n",
       "      <th>edu_3</th>\n",
       "      <th>edu_4</th>\n",
       "      <th>edu_5</th>\n",
       "      <th>edu_6</th>\n",
       "    </tr>\n",
       "  </thead>\n",
       "  <tbody>\n",
       "    <tr>\n",
       "      <th>0</th>\n",
       "      <td>50000</td>\n",
       "      <td>0</td>\n",
       "      <td>0</td>\n",
       "      <td>49</td>\n",
       "      <td>0</td>\n",
       "      <td>0</td>\n",
       "      <td>0</td>\n",
       "      <td>0</td>\n",
       "      <td>0</td>\n",
       "      <td>0</td>\n",
       "      <td>90231</td>\n",
       "      <td>90647</td>\n",
       "      <td>92309</td>\n",
       "      <td>93880</td>\n",
       "      <td>99418</td>\n",
       "      <td>101392</td>\n",
       "      <td>2852</td>\n",
       "      <td>2784</td>\n",
       "      <td>2603</td>\n",
       "      <td>10000</td>\n",
       "      <td>3164</td>\n",
       "      <td>2868</td>\n",
       "      <td>1</td>\n",
       "      <td>0</td>\n",
       "      <td>0</td>\n",
       "      <td>1</td>\n",
       "      <td>0</td>\n",
       "      <td>0</td>\n",
       "      <td>0</td>\n",
       "      <td>0</td>\n",
       "    </tr>\n",
       "    <tr>\n",
       "      <th>1</th>\n",
       "      <td>30000</td>\n",
       "      <td>0</td>\n",
       "      <td>1</td>\n",
       "      <td>39</td>\n",
       "      <td>0</td>\n",
       "      <td>0</td>\n",
       "      <td>0</td>\n",
       "      <td>0</td>\n",
       "      <td>0</td>\n",
       "      <td>0</td>\n",
       "      <td>20893</td>\n",
       "      <td>22206</td>\n",
       "      <td>19273</td>\n",
       "      <td>16469</td>\n",
       "      <td>14670</td>\n",
       "      <td>11214</td>\n",
       "      <td>2007</td>\n",
       "      <td>2000</td>\n",
       "      <td>2000</td>\n",
       "      <td>417</td>\n",
       "      <td>1500</td>\n",
       "      <td>1500</td>\n",
       "      <td>0</td>\n",
       "      <td>0</td>\n",
       "      <td>0</td>\n",
       "      <td>1</td>\n",
       "      <td>0</td>\n",
       "      <td>0</td>\n",
       "      <td>0</td>\n",
       "      <td>0</td>\n",
       "    </tr>\n",
       "    <tr>\n",
       "      <th>2</th>\n",
       "      <td>260000</td>\n",
       "      <td>0</td>\n",
       "      <td>0</td>\n",
       "      <td>27</td>\n",
       "      <td>0</td>\n",
       "      <td>0</td>\n",
       "      <td>0</td>\n",
       "      <td>0</td>\n",
       "      <td>0</td>\n",
       "      <td>0</td>\n",
       "      <td>158711</td>\n",
       "      <td>129796</td>\n",
       "      <td>101721</td>\n",
       "      <td>76699</td>\n",
       "      <td>56738</td>\n",
       "      <td>39134</td>\n",
       "      <td>30000</td>\n",
       "      <td>4132</td>\n",
       "      <td>3410</td>\n",
       "      <td>2600</td>\n",
       "      <td>1800</td>\n",
       "      <td>1200</td>\n",
       "      <td>0</td>\n",
       "      <td>0</td>\n",
       "      <td>1</td>\n",
       "      <td>0</td>\n",
       "      <td>0</td>\n",
       "      <td>0</td>\n",
       "      <td>0</td>\n",
       "      <td>0</td>\n",
       "    </tr>\n",
       "    <tr>\n",
       "      <th>3</th>\n",
       "      <td>200000</td>\n",
       "      <td>1</td>\n",
       "      <td>1</td>\n",
       "      <td>33</td>\n",
       "      <td>0</td>\n",
       "      <td>0</td>\n",
       "      <td>0</td>\n",
       "      <td>0</td>\n",
       "      <td>0</td>\n",
       "      <td>0</td>\n",
       "      <td>23762</td>\n",
       "      <td>25944</td>\n",
       "      <td>26988</td>\n",
       "      <td>25237</td>\n",
       "      <td>22131</td>\n",
       "      <td>13774</td>\n",
       "      <td>4000</td>\n",
       "      <td>2000</td>\n",
       "      <td>600</td>\n",
       "      <td>3000</td>\n",
       "      <td>4000</td>\n",
       "      <td>100</td>\n",
       "      <td>0</td>\n",
       "      <td>0</td>\n",
       "      <td>0</td>\n",
       "      <td>1</td>\n",
       "      <td>0</td>\n",
       "      <td>0</td>\n",
       "      <td>0</td>\n",
       "      <td>0</td>\n",
       "    </tr>\n",
       "    <tr>\n",
       "      <th>4</th>\n",
       "      <td>50000</td>\n",
       "      <td>0</td>\n",
       "      <td>0</td>\n",
       "      <td>27</td>\n",
       "      <td>0</td>\n",
       "      <td>0</td>\n",
       "      <td>0</td>\n",
       "      <td>0</td>\n",
       "      <td>0</td>\n",
       "      <td>0</td>\n",
       "      <td>14614</td>\n",
       "      <td>15622</td>\n",
       "      <td>16342</td>\n",
       "      <td>17653</td>\n",
       "      <td>17697</td>\n",
       "      <td>18068</td>\n",
       "      <td>1558</td>\n",
       "      <td>1278</td>\n",
       "      <td>1589</td>\n",
       "      <td>633</td>\n",
       "      <td>656</td>\n",
       "      <td>783</td>\n",
       "      <td>0</td>\n",
       "      <td>0</td>\n",
       "      <td>1</td>\n",
       "      <td>0</td>\n",
       "      <td>0</td>\n",
       "      <td>0</td>\n",
       "      <td>0</td>\n",
       "      <td>0</td>\n",
       "    </tr>\n",
       "  </tbody>\n",
       "</table>\n",
       "</div>"
      ],
      "text/plain": [
       "   LIMIT_BAL  SEX  MARRIAGE  AGE  PAY_0  PAY_2  PAY_3  PAY_4  PAY_5  PAY_6  \\\n",
       "0      50000    0         0   49      0      0      0      0      0      0   \n",
       "1      30000    0         1   39      0      0      0      0      0      0   \n",
       "2     260000    0         0   27      0      0      0      0      0      0   \n",
       "3     200000    1         1   33      0      0      0      0      0      0   \n",
       "4      50000    0         0   27      0      0      0      0      0      0   \n",
       "\n",
       "   BILL_AMT1  BILL_AMT2  BILL_AMT3  BILL_AMT4  BILL_AMT5  BILL_AMT6  PAY_AMT1  \\\n",
       "0      90231      90647      92309      93880      99418     101392      2852   \n",
       "1      20893      22206      19273      16469      14670      11214      2007   \n",
       "2     158711     129796     101721      76699      56738      39134     30000   \n",
       "3      23762      25944      26988      25237      22131      13774      4000   \n",
       "4      14614      15622      16342      17653      17697      18068      1558   \n",
       "\n",
       "   PAY_AMT2  PAY_AMT3  PAY_AMT4  PAY_AMT5  PAY_AMT6  \\\n",
       "0      2784      2603     10000      3164      2868   \n",
       "1      2000      2000       417      1500      1500   \n",
       "2      4132      3410      2600      1800      1200   \n",
       "3      2000       600      3000      4000       100   \n",
       "4      1278      1589       633       656       783   \n",
       "\n",
       "   default payment next month  edu_0  edu_1  edu_2  edu_3  edu_4  edu_5  edu_6  \n",
       "0                           1      0      0      1      0      0      0      0  \n",
       "1                           0      0      0      1      0      0      0      0  \n",
       "2                           0      0      1      0      0      0      0      0  \n",
       "3                           0      0      0      1      0      0      0      0  \n",
       "4                           0      0      1      0      0      0      0      0  "
      ]
     },
     "execution_count": 64,
     "metadata": {},
     "output_type": "execute_result"
    }
   ],
   "source": [
    "df.head()"
   ]
  },
  {
   "cell_type": "code",
   "execution_count": 31,
   "metadata": {},
   "outputs": [
    {
     "data": {
      "text/plain": [
       "count    11188.000000\n",
       "mean        -0.164015\n",
       "std          1.138564\n",
       "min         -2.000000\n",
       "25%         -1.000000\n",
       "50%          0.000000\n",
       "75%          0.000000\n",
       "max          8.000000\n",
       "Name: PAY_6, dtype: float64"
      ]
     },
     "execution_count": 31,
     "metadata": {},
     "output_type": "execute_result"
    }
   ],
   "source": [
    "df[df['edu_2']==1]['PAY_6'].describe()"
   ]
  },
  {
   "cell_type": "code",
   "execution_count": 34,
   "metadata": {},
   "outputs": [
    {
     "data": {
      "text/plain": [
       "count    5308.000000\n",
       "mean        0.116993\n",
       "std         1.480630\n",
       "min        -2.000000\n",
       "25%        -1.000000\n",
       "50%         0.000000\n",
       "75%         0.000000\n",
       "max         8.000000\n",
       "Name: PAY_6, dtype: float64"
      ]
     },
     "execution_count": 34,
     "metadata": {},
     "output_type": "execute_result"
    }
   ],
   "source": [
    "df[df['default payment next month']==1]['PAY_6'].describe()"
   ]
  },
  {
   "cell_type": "code",
   "execution_count": 35,
   "metadata": {},
   "outputs": [
    {
     "data": {
      "text/plain": [
       "count    18691.000000\n",
       "mean        -0.400246\n",
       "std          1.008757\n",
       "min         -2.000000\n",
       "25%         -1.000000\n",
       "50%          0.000000\n",
       "75%          0.000000\n",
       "max          7.000000\n",
       "Name: PAY_6, dtype: float64"
      ]
     },
     "execution_count": 35,
     "metadata": {},
     "output_type": "execute_result"
    }
   ],
   "source": [
    "df[df['default payment next month']==0]['PAY_6'].describe()"
   ]
  },
  {
   "cell_type": "code",
   "execution_count": 40,
   "metadata": {
    "scrolled": true
   },
   "outputs": [
    {
     "data": {
      "text/plain": [
       "count    23999.000000\n",
       "mean        35.523230\n",
       "std          9.253986\n",
       "min         21.000000\n",
       "25%         28.000000\n",
       "50%         34.000000\n",
       "75%         42.000000\n",
       "max         79.000000\n",
       "Name: AGE, dtype: float64"
      ]
     },
     "execution_count": 40,
     "metadata": {},
     "output_type": "execute_result"
    }
   ],
   "source": [
    "df['AGE'].describe()"
   ]
  },
  {
   "cell_type": "code",
   "execution_count": 61,
   "metadata": {},
   "outputs": [
    {
     "data": {
      "text/plain": [
       "0.20186533793279673"
      ]
     },
     "execution_count": 61,
     "metadata": {},
     "output_type": "execute_result"
    }
   ],
   "source": [
    "df[(df['AGE']>30)&(df['AGE']<40)]['default payment next month'].mean()"
   ]
  },
  {
   "cell_type": "markdown",
   "metadata": {},
   "source": [
    "## 2. EDA"
   ]
  },
  {
   "cell_type": "code",
   "execution_count": 5,
   "metadata": {},
   "outputs": [
    {
     "data": {
      "text/plain": [
       "Index(['LIMIT_BAL', 'SEX', 'EDUCATION', 'MARRIAGE', 'AGE', 'PAY_0', 'PAY_2',\n",
       "       'PAY_3', 'PAY_4', 'PAY_5', 'PAY_6', 'BILL_AMT1', 'BILL_AMT2',\n",
       "       'BILL_AMT3', 'BILL_AMT4', 'BILL_AMT5', 'BILL_AMT6', 'PAY_AMT1',\n",
       "       'PAY_AMT2', 'PAY_AMT3', 'PAY_AMT4', 'PAY_AMT5', 'PAY_AMT6',\n",
       "       'default payment next month'],\n",
       "      dtype='object')"
      ]
     },
     "execution_count": 5,
     "metadata": {},
     "output_type": "execute_result"
    }
   ],
   "source": [
    "df.columns"
   ]
  },
  {
   "cell_type": "code",
   "execution_count": 116,
   "metadata": {},
   "outputs": [
    {
     "data": {
      "text/plain": [
       " 0    13096\n",
       "-1     4560\n",
       "-2     3878\n",
       " 2     2211\n",
       " 3      146\n",
       " 4       42\n",
       " 7       39\n",
       " 6       14\n",
       " 5       11\n",
       " 8        2\n",
       "Name: PAY_6, dtype: int64"
      ]
     },
     "execution_count": 116,
     "metadata": {},
     "output_type": "execute_result"
    }
   ],
   "source": [
    "df['PAY_6'].value_counts()"
   ]
  },
  {
   "cell_type": "code",
   "execution_count": null,
   "metadata": {},
   "outputs": [],
   "source": []
  },
  {
   "cell_type": "code",
   "execution_count": null,
   "metadata": {},
   "outputs": [],
   "source": []
  },
  {
   "cell_type": "code",
   "execution_count": 62,
   "metadata": {},
   "outputs": [
    {
     "data": {
      "text/plain": [
       "count    23999.000000\n",
       "mean         0.221176\n",
       "std          0.415047\n",
       "min          0.000000\n",
       "25%          0.000000\n",
       "50%          0.000000\n",
       "75%          0.000000\n",
       "max          1.000000\n",
       "Name: default payment next month, dtype: float64"
      ]
     },
     "execution_count": 62,
     "metadata": {},
     "output_type": "execute_result"
    }
   ],
   "source": [
    "df['default payment next month'].describe()"
   ]
  },
  {
   "cell_type": "markdown",
   "metadata": {},
   "source": [
    "## 3. Feature Engineering"
   ]
  },
  {
   "cell_type": "markdown",
   "metadata": {},
   "source": [
    "So, after some discussion, we came up with a series of features we wanted to explore on the notion that they seemed like they might intuitively have some power. In this section we'd like to make them and do a quick check to see if they do actually correlate to the default rate meaningfully. For context, the average default rate over the entire population is around 22%\n",
    "\n",
    "Our initial thoughts included the following features:\n",
    "1. Is your balance increasing or decreasing: if you have a balance but are paying it down month over month without incurring substantial new debt, that seems like a good sign even if you still have a substantial balance remaining\n",
    "2. Are there spikes in the balance you carry? If you typically have a low balance, but a month or two out you suddenly incur a lot of debt, that seems like a sign of something extreme happening\n",
    "3. Balance as a % of credit limit: obviously, the overall balance seems important, but having a credit limit that is proportionally higher than your balance seems like it would be a good sign, even if you're carrying debt\n",
    "4. Age brackets: the effect of age on default rate is likely not linear, middle age peole may default less than young people, but default rates seem to go up once you hit retirement age\n",
    "5. Age interacted with marriage status/payment status etc: can we identify high or low risk demographic pockets?"
   ]
  },
  {
   "cell_type": "code",
   "execution_count": 302,
   "metadata": {},
   "outputs": [],
   "source": [
    "#Is your balance increasing or decreasing. It occurs to me that there are two easy ways. 1) strictly in/decreasing\n",
    "#where each month is lower than the previous. and 2) generally in/decreasing where you simply compare\n",
    "#the first and last periods. Let's explore both\n",
    "def strict_dec(n):\n",
    "    if (df.loc[n]['BILL_AMT1'] < df.loc[n]['BILL_AMT2'] < df.loc[n]['BILL_AMT3']< \n",
    "        df.loc[n]['BILL_AMT4']< df.loc[n]['BILL_AMT5']< df.loc[n]['BILL_AMT6']):\n",
    "        return 1\n",
    "    else:\n",
    "        return 0\n",
    "\n",
    "def strict_inc(n):\n",
    "    if (df.loc[n]['BILL_AMT1'] >df.loc[n]['BILL_AMT2'] > df.loc[n]['BILL_AMT3']> \n",
    "        df.loc[n]['BILL_AMT4']> df.loc[n]['BILL_AMT5']> df.loc[n]['BILL_AMT6']):\n",
    "        return 1\n",
    "    else:\n",
    "        return 0\n",
    "\n",
    "df['strict_dec'] = [strict_dec(n) for n in range(0,len(df))]\n",
    "df['strict_inc'] = [strict_inc(n) for n in range(0,len(df))]"
   ]
  },
  {
   "cell_type": "code",
   "execution_count": 303,
   "metadata": {},
   "outputs": [
    {
     "name": "stdout",
     "output_type": "stream",
     "text": [
      "strictly decreasing:  1592\n",
      "strict_dec default rate:  22.74\n",
      "strictly increasing:  1335\n",
      "strict_inc default rate:  16.25\n"
     ]
    }
   ],
   "source": [
    "print('strictly decreasing: ',df['strict_dec'].sum())\n",
    "print('strict_dec default rate: ', round((df[df['strict_dec']==1]['default payment next month'].mean())*100,2))\n",
    "print('strictly increasing: ',df['strict_inc'].sum())\n",
    "print('strict_inc default rate: ', round(df[df['strict_inc']==1]['default payment next month'].mean()*100,2))"
   ]
  },
  {
   "cell_type": "markdown",
   "metadata": {},
   "source": [
    "Honestly, this is less dramatic than I would have expected. The strictly decreasing tag doesn't seem to be useful at all. Surprisingly, people with strictly increase bill amounts default at a lower rate? Curious...."
   ]
  },
  {
   "cell_type": "code",
   "execution_count": 318,
   "metadata": {},
   "outputs": [
    {
     "data": {
      "text/plain": [
       "array([[1.       , 0.0887891],\n",
       "       [0.0887891, 1.       ]])"
      ]
     },
     "execution_count": 318,
     "metadata": {},
     "output_type": "execute_result"
    },
    {
     "data": {
      "image/png": "[encoded data removed]",
      "text/plain": [
       "<Figure size 360x360 with 1 Axes>"
      ]
     },
     "metadata": {
      "needs_background": "light"
     },
     "output_type": "display_data"
    }
   ],
   "source": [
    "#Debt as % of limit:\n",
    "df['debt_ratio'] = df['BILL_AMT1']/df['LIMIT_BAL']\n",
    "sns.lmplot(x='debt_ratio',y='default payment next month', data=df, logistic=True)\n",
    "np.corrcoef(df['debt_ratio'],df['default payment next month'])"
   ]
  },
  {
   "cell_type": "markdown",
   "metadata": {},
   "source": [
    "Next going to look at spikes in balances. First way is just looking at whether you had a spike in the last couple of months, as defined by a fraction of your overall credit limit. It doesn't look to be super meaningful....\n",
    "\n",
    "Next I'm going to try to do something similar with the overall increase in your balance, on its own, not as a fraction of credit limit."
   ]
  },
  {
   "cell_type": "code",
   "execution_count": 307,
   "metadata": {},
   "outputs": [],
   "source": [
    "def had_spike_perc(n):\n",
    "    growth = df.loc[n]['BILL_AMT1'] - df.loc[n]['BILL_AMT3']\n",
    "    if growth <0:\n",
    "        return 0\n",
    "    if growth/df.loc[n]['LIMIT_BAL'] > .75:\n",
    "        return 1\n",
    "    else:\n",
    "        return 0\n",
    "\n",
    "df['had_spike'] = [had_spike_perc(n) for n in range(0,len(df))]"
   ]
  },
  {
   "cell_type": "code",
   "execution_count": 308,
   "metadata": {},
   "outputs": [
    {
     "data": {
      "text/plain": [
       "352"
      ]
     },
     "execution_count": 308,
     "metadata": {},
     "output_type": "execute_result"
    }
   ],
   "source": [
    "df['had_spike'].sum()"
   ]
  },
  {
   "cell_type": "code",
   "execution_count": 309,
   "metadata": {},
   "outputs": [
    {
     "data": {
      "text/plain": [
       "0.2215909090909091"
      ]
     },
     "execution_count": 309,
     "metadata": {},
     "output_type": "execute_result"
    }
   ],
   "source": [
    "df[df['had_spike']==1]['default payment next month'].mean()"
   ]
  },
  {
   "cell_type": "markdown",
   "metadata": {},
   "source": [
    "Overall increase in balance appears to be somewhat related, but not substantially."
   ]
  },
  {
   "cell_type": "code",
   "execution_count": 310,
   "metadata": {},
   "outputs": [
    {
     "data": {
      "text/plain": [
       "array([[ 1.        , -0.02010505],\n",
       "       [-0.02010505,  1.        ]])"
      ]
     },
     "execution_count": 310,
     "metadata": {},
     "output_type": "execute_result"
    },
    {
     "data": {
      "image/png": "[encoded data removed]",
      "text/plain": [
       "<Figure size 360x360 with 1 Axes>"
      ]
     },
     "metadata": {
      "needs_background": "light"
     },
     "output_type": "display_data"
    }
   ],
   "source": [
    "df['bal_growth'] = df['BILL_AMT1'] - df['BILL_AMT6']\n",
    "sns.lmplot(x='bal_growth',y='default payment next month', data=df)\n",
    "np.corrcoef(df['bal_growth'],df['default payment next month'])"
   ]
  },
  {
   "cell_type": "code",
   "execution_count": 311,
   "metadata": {},
   "outputs": [
    {
     "data": {
      "text/plain": [
       "count     23999.000000\n",
       "mean       2067.336597\n",
       "std       22790.128154\n",
       "min     -489972.000000\n",
       "25%       -1529.000000\n",
       "50%           0.000000\n",
       "75%        2274.000000\n",
       "max      470400.000000\n",
       "Name: final_growth, dtype: float64"
      ]
     },
     "execution_count": 311,
     "metadata": {},
     "output_type": "execute_result"
    }
   ],
   "source": [
    "#Growth in last month's balance, also appears to be useuless.\n",
    "df['final_growth'] = df['BILL_AMT1'] - df['BILL_AMT2']\n",
    "df['final_growth'].describe()"
   ]
  },
  {
   "cell_type": "code",
   "execution_count": 317,
   "metadata": {
    "scrolled": false
   },
   "outputs": [
    {
     "data": {
      "text/plain": [
       "array([[ 1.        , -0.01627195],\n",
       "       [-0.01627195,  1.        ]])"
      ]
     },
     "execution_count": 317,
     "metadata": {},
     "output_type": "execute_result"
    },
    {
     "data": {
      "image/png": "[encoded data removed]",
      "text/plain": [
       "<Figure size 360x360 with 1 Axes>"
      ]
     },
     "metadata": {
      "needs_background": "light"
     },
     "output_type": "display_data"
    }
   ],
   "source": [
    "sns.lmplot(x='final_growth',y='default payment next month', data=df, logistic=True)\n",
    "np.corrcoef(df['final_growth'],df['default payment next month'])"
   ]
  },
  {
   "cell_type": "markdown",
   "metadata": {},
   "source": [
    "Howabout if you've been carrying a balance and then don't make a payment"
   ]
  },
  {
   "cell_type": "markdown",
   "metadata": {},
   "source": [
    "In an effort to both simplify the feature set and possibly tease out the people who defaulted even if they had made timely payments immediately beforehand. First, we're going to make a summary feature which adds up positive values in previous pay periods (i.e. previous late payments). Then we're going to see if this has any bearing on people who made a timely payment in period 0, but still defaulted."
   ]
  },
  {
   "cell_type": "code",
   "execution_count": 270,
   "metadata": {},
   "outputs": [],
   "source": [
    "def sum_pay_cat(n):\n",
    "    value = 0\n",
    "    if df.loc[n]['PAY_0'] > 0:\n",
    "        value += df.loc[n]['PAY_0']\n",
    "    if df.loc[n]['PAY_2'] > 0:\n",
    "        value += df.loc[n]['PAY_2']\n",
    "    if df.loc[n]['PAY_3'] > 0:\n",
    "        value += df.loc[n]['PAY_3']\n",
    "    if df.loc[n]['PAY_4'] > 0:\n",
    "        value += df.loc[n]['PAY_4']\n",
    "    if df.loc[n]['PAY_5'] > 0:\n",
    "        value += df.loc[n]['PAY_5']\n",
    "    if df.loc[n]['PAY_6'] > 0:\n",
    "        value += df.loc[n]['PAY_6']\n",
    "    return value\n",
    "\n",
    "df['pay_cat_sum'] = [sum_pay_cat(n) for n in range(0,len(df))]"
   ]
  },
  {
   "cell_type": "code",
   "execution_count": 315,
   "metadata": {
    "scrolled": false
   },
   "outputs": [
    {
     "data": {
      "text/plain": [
       "array([[1.        , 0.37495232],\n",
       "       [0.37495232, 1.        ]])"
      ]
     },
     "execution_count": 315,
     "metadata": {},
     "output_type": "execute_result"
    },
    {
     "data": {
      "image/png": "[encoded data removed]",
      "text/plain": [
       "<Figure size 360x360 with 1 Axes>"
      ]
     },
     "metadata": {
      "needs_background": "light"
     },
     "output_type": "display_data"
    }
   ],
   "source": [
    "sns.lmplot(x='pay_cat_sum',y='default payment next month', data=df, logistic=True)\n",
    "np.corrcoef(df['pay_cat_sum'],df['default payment next month'])"
   ]
  },
  {
   "cell_type": "markdown",
   "metadata": {},
   "source": [
    "Notice that if you made a timely payment in period 0, you have a very low default rate - around 13/14%. If, however, you had any late payments in previous payment periods, your default rates go up substantially:\n",
    "pay_cat_sum > 1 - 27% default rate\n",
    "pay_cat_sum > 2 - 33% default rate\n",
    "pay_cat_sum > 5 - 39% default rate\n",
    "\n",
    "This suggests that we should have a flag for any previous defaults for people with payments immediately before hand, and also for including this interacted with good repayment"
   ]
  },
  {
   "cell_type": "code",
   "execution_count": 316,
   "metadata": {},
   "outputs": [
    {
     "name": "stdout",
     "output_type": "stream",
     "text": [
      "0.4990808823529412\n",
      "5440\n",
      "0.7004366812227074\n",
      "1145\n"
     ]
    },
    {
     "data": {
      "text/plain": [
       "array([[1.        , 0.16972263],\n",
       "       [0.16972263, 1.        ]])"
      ]
     },
     "execution_count": 316,
     "metadata": {},
     "output_type": "execute_result"
    },
    {
     "data": {
      "image/png": "[encoded data removed]",
      "text/plain": [
       "<Figure size 360x360 with 1 Axes>"
      ]
     },
     "metadata": {
      "needs_background": "light"
     },
     "output_type": "display_data"
    }
   ],
   "source": [
    "print(df[(df['PAY_0']>0)]['default payment next month'].mean())\n",
    "print(len(df[df['PAY_0']>0]))\n",
    "print(df[(df['PAY_0']>0)&(df['pay_cat_sum']>10)]['default payment next month'].mean())\n",
    "print(len(df[(df['PAY_0']>0)&(df['pay_cat_sum']>10)]))\n",
    "sns.lmplot(x='pay_cat_sum',y='default payment next month', data=df[df['PAY_0']==-0], logistic=True)\n",
    "np.corrcoef(df[df['PAY_0']==-0]['pay_cat_sum'],df[df['PAY_0']==-0]['default payment next month'])"
   ]
  },
  {
   "cell_type": "code",
   "execution_count": 299,
   "metadata": {},
   "outputs": [],
   "source": [
    "df['good_payment_standing'] = [1 if df.loc[n]['PAY_0']<1 else 0 for n in range(0,len(df))]\n",
    "df['bad_payment history'] = [1 if df.loc[n]['pay_cat_sum']>0 else 0 for n in range(0,len(df))]\n",
    "df['good_standing_bad_history'] = df['good_payment_standing']*df['bad_payment history']\n",
    "df['past_pay_cat_sum'] = df['good_payment_standing'] * df['pay_cat_sum']"
   ]
  },
  {
   "cell_type": "code",
   "execution_count": null,
   "metadata": {},
   "outputs": [],
   "source": []
  },
  {
   "cell_type": "markdown",
   "metadata": {},
   "source": [
    "Now to add in some age brackets, as dummies. Our previous exploration made it seem like older people become more at risk for default after a certain age. Women default at lower rates than men in general, but there seem to be a few places where the trend reverses (particularly after 55, which appears to be the retirement age for women in Taiwan) Where are the best cut offs for ages in general? And where are there other trends like this? Let's look at the default rates for people of each age, split across genders/marital statuses.\n",
    "\n",
    "I'm going to make a data frame with this info."
   ]
  },
  {
   "cell_type": "code",
   "execution_count": 186,
   "metadata": {},
   "outputs": [],
   "source": [
    "comp_dict = {}\n",
    "for age in range(21,61):\n",
    "    comp_dict[age] = {'single_woman':df[(df['AGE']==age)&(df['MARRIAGE']==0)&(df['SEX']==1)]['default payment next month'].mean(),\n",
    "                     'single_man': df[(df['AGE']==age)&(df['MARRIAGE']==0)&(df['SEX']==0)]['default payment next month'].mean(),\n",
    "                     'married_woman':df[(df['AGE']==age)&(df['MARRIAGE']==1)&(df['SEX']==1)]['default payment next month'].mean(),\n",
    "                     'married_man': df[(df['AGE']==age)&(df['MARRIAGE']==1)&(df['SEX']==0)]['default payment next month'].mean(),\n",
    "                      'married_avg': df[(df['AGE']==age)&(df['MARRIAGE']==1)]['default payment next month'].mean(),\n",
    "                      'single_avg': df[(df['AGE']==age)&(df['MARRIAGE']==0)]['default payment next month'].mean(),\n",
    "                      'men_avg': df[(df['AGE']==age)&(df['SEX']==0)]['default payment next month'].mean(),\n",
    "                      'women_avg': df[(df['AGE']==age)&(df['SEX']==1)]['default payment next month'].mean(),\n",
    "                     'age_ave': df[df['AGE']==age]['default payment next month'].mean()}\n",
    "comp_df = pd.DataFrame(comp_dict).T\n",
    "comp_df['married_man'] = comp_df['age_ave']-comp_df['married_man']\n",
    "comp_df['married_woman'] = comp_df['age_ave']-comp_df['married_woman']\n",
    "comp_df['single_man'] = comp_df['age_ave']-comp_df['single_man']\n",
    "comp_df['single_woman'] = comp_df['age_ave']-comp_df['single_woman']\n",
    "comp_df['married_avg'] = comp_df['age_ave'] - comp_df['married_avg']\n",
    "comp_df['single_avg'] = comp_df['age_ave'] - comp_df['single_avg']\n",
    "comp_df['men_avg'] = comp_df['age_ave'] - comp_df['men_avg']\n",
    "comp_df['women_avg'] = comp_df['age_ave'] - comp_df['women_avg']"
   ]
  },
  {
   "cell_type": "markdown",
   "metadata": {},
   "source": [
    "First, just looking at the average default rates by age."
   ]
  },
  {
   "cell_type": "code",
   "execution_count": 180,
   "metadata": {
    "scrolled": true
   },
   "outputs": [
    {
     "data": {
      "text/plain": [
       "[<matplotlib.lines.Line2D at 0x1a2305ea90>]"
      ]
     },
     "execution_count": 180,
     "metadata": {},
     "output_type": "execute_result"
    },
    {
     "data": {
      "image/png": "[encoded data removed]",
      "text/plain": [
       "<Figure size 432x288 with 1 Axes>"
      ]
     },
     "metadata": {
      "needs_background": "light"
     },
     "output_type": "display_data"
    }
   ],
   "source": [
    "plt.plot(comp_df['age_ave'])"
   ]
  },
  {
   "cell_type": "markdown",
   "metadata": {},
   "source": [
    "Visually, it looks to me like there are a few clear trends:\n",
    "1. High default rates for people below 25\n",
    "2. Generally low default rates for people between 25 and say 35\n",
    "3. Over 35, default rates start to go up steadily, with a few blips - hard to tell if 45 is a fluke or if there's something about that age\n",
    "4. Rates go up substantially once you hit retirement ages - 55 to 60\n",
    "\n",
    "My intuition is to therefore break out the significantly different age brackets. Let 25-35 be the model default, and put in flags for under 25, 35-54 and 55 and up\n",
    "\n",
    "Now let's look through some of the breakdowns. These are plotted as better/worse than age average default rate"
   ]
  },
  {
   "cell_type": "code",
   "execution_count": 187,
   "metadata": {
    "scrolled": false
   },
   "outputs": [
    {
     "data": {
      "text/plain": [
       "<matplotlib.legend.Legend at 0x1a24154320>"
      ]
     },
     "execution_count": 187,
     "metadata": {},
     "output_type": "execute_result"
    },
    {
     "data": {
      "image/png": "[encoded data removed]",
      "text/plain": [
       "<Figure size 720x504 with 1 Axes>"
      ]
     },
     "metadata": {
      "needs_background": "light"
     },
     "output_type": "display_data"
    }
   ],
   "source": [
    "#Women are safer than men in general, frequently by a hefty margin, with the important exception of the\n",
    "#years following 55, which is the retirement age for women in Taiwan\n",
    "plt.figure(figsize=(10,7))\n",
    "plt.plot(comp_df['women_avg'][1:], label='women')\n",
    "plt.plot(comp_df['men_avg'][1:], label='men')\n",
    "plt.legend()"
   ]
  },
  {
   "cell_type": "code",
   "execution_count": 193,
   "metadata": {},
   "outputs": [
    {
     "data": {
      "text/plain": [
       "<matplotlib.legend.Legend at 0x1a24b3a4a8>"
      ]
     },
     "execution_count": 193,
     "metadata": {},
     "output_type": "execute_result"
    },
    {
     "data": {
      "image/png": "[encoded data removed]",
      "text/plain": [
       "<Figure size 720x504 with 1 Axes>"
      ]
     },
     "metadata": {
      "needs_background": "light"
     },
     "output_type": "display_data"
    }
   ],
   "source": [
    "#Single people generally default less married people, particularly in the older cohorts\n",
    "plt.figure(figsize=(10,7))\n",
    "plt.plot(comp_df['married_avg'][1:], label='married')\n",
    "\n",
    "plt.plot(comp_df['single_avg'][1:], label='single')\n",
    "plt.legend()"
   ]
  },
  {
   "cell_type": "code",
   "execution_count": 200,
   "metadata": {},
   "outputs": [
    {
     "data": {
      "text/plain": [
       "<matplotlib.legend.Legend at 0x1a24861be0>"
      ]
     },
     "execution_count": 200,
     "metadata": {},
     "output_type": "execute_result"
    },
    {
     "data": {
      "image/png": "[encoded data removed]",
      "text/plain": [
       "<Figure size 720x504 with 1 Axes>"
      ]
     },
     "metadata": {
      "needs_background": "light"
     },
     "output_type": "display_data"
    }
   ],
   "source": [
    "#But the difference between single and married is mostly due to the women, single men tend to be at average\n",
    "#or a bit below average default rates\n",
    "plt.figure(figsize=(10,7))\n",
    "plt.plot(comp_df['single_man'][1:], label='single men')\n",
    "plt.plot(comp_df['single_woman'][1:], label='single women')\n",
    "plt.plot(comp_df.index[1:],np.zeros(39,))\n",
    "plt.legend()"
   ]
  },
  {
   "cell_type": "code",
   "execution_count": 201,
   "metadata": {
    "scrolled": false
   },
   "outputs": [
    {
     "data": {
      "text/plain": [
       "<matplotlib.legend.Legend at 0x1a25233208>"
      ]
     },
     "execution_count": 201,
     "metadata": {},
     "output_type": "execute_result"
    },
    {
     "data": {
      "image/png": "[encoded data removed]",
      "text/plain": [
       "<Figure size 720x504 with 1 Axes>"
      ]
     },
     "metadata": {
      "needs_background": "light"
     },
     "output_type": "display_data"
    }
   ],
   "source": [
    "plt.figure(figsize=(10,7))\n",
    "plt.plot(comp_df['married_man'][1:], label='married men')\n",
    "plt.plot(comp_df['married_woman'][1:], label='married women')\n",
    "plt.plot(comp_df.index[1:],np.zeros(39,))\n",
    "plt.legend()"
   ]
  },
  {
   "cell_type": "markdown",
   "metadata": {},
   "source": [
    "So let's make some age related dummies:\n",
    "1. age 25 and under\n",
    "2. 25 - 35\n",
    "3. 35 - 54\n",
    "4. 55 and up\n",
    "5. an extra flag for women over 55\n",
    "6. an extra flag for single people in their 50's"
   ]
  },
  {
   "cell_type": "code",
   "execution_count": 300,
   "metadata": {},
   "outputs": [],
   "source": [
    "df['under_25'] = [1 if df.loc[n]['AGE'] < 26 else 0 for n in range(0,len(df))]\n",
    "df['25_to_35'] = [1 if df.loc[n]['AGE'] > 25 and df.loc[n]['AGE'] < 36 else 0 for n in range(0,len(df))]\n",
    "df['35_to_54'] = [1 if df.loc[n]['AGE'] > 35 and df.loc[n]['AGE'] < 55 else 0 for n in range(0,len(df))]\n",
    "df['55_and_up'] = [1 if df.loc[n]['AGE'] > 54 else 0 for n in range(0,len(df))]\n",
    "df['retired_women'] = df['55_and_up']*df['SEX']\n",
    "df['single_50s'] = [1 if df.loc[n]['AGE'] > 50 and df.loc[n]['MARRIAGE']==0 else 0 for n in range(0,len(df))]"
   ]
  },
  {
   "cell_type": "code",
   "execution_count": null,
   "metadata": {},
   "outputs": [],
   "source": []
  },
  {
   "cell_type": "code",
   "execution_count": null,
   "metadata": {},
   "outputs": [],
   "source": []
  },
  {
   "cell_type": "code",
   "execution_count": 280,
   "metadata": {},
   "outputs": [
    {
     "data": {
      "text/plain": [
       " 0    11835\n",
       "-1     4544\n",
       " 1     2942\n",
       "-2     2180\n",
       " 2     2120\n",
       " 3      265\n",
       " 4       62\n",
       " 5       23\n",
       " 8       15\n",
       " 7        7\n",
       " 6        6\n",
       "Name: PAY_0, dtype: int64"
      ]
     },
     "execution_count": 280,
     "metadata": {},
     "output_type": "execute_result"
    }
   ],
   "source": [
    "df['PAY_0'].value_counts()"
   ]
  },
  {
   "cell_type": "code",
   "execution_count": 290,
   "metadata": {},
   "outputs": [
    {
     "name": "stdout",
     "output_type": "stream",
     "text": [
      "0.13020701309674693\n",
      "0.07650273224043716\n",
      "0.15409309791332262\n",
      "0.17777777777777778\n"
     ]
    }
   ],
   "source": [
    "print(df[(df['PAY_0']==0)]['default payment next month'].mean())\n",
    "print(df[(df['PAY_0']==0)&(df['strict_inc']==1)&(df['edu_1']==1)]['default payment next month'].mean())\n",
    "print(df[(df['PAY_0']==0)&(df['strict_inc']==1)&(df['edu_2']==1)]['default payment next month'].mean())\n",
    "print(df[(df['PAY_0']==0)&(df['strict_inc']==1)&(df['edu_3']==1)]['default payment next month'].mean())"
   ]
  },
  {
   "cell_type": "code",
   "execution_count": 274,
   "metadata": {
    "scrolled": false
   },
   "outputs": [
    {
     "name": "stdout",
     "output_type": "stream",
     "text": [
      "327\n",
      "523\n"
     ]
    }
   ],
   "source": [
    "print(len(df[(df['PAY_0']==0)&(df['strict_dec']==1)&(df['edu_1']==1)]))\n",
    "print(len(df[(df['PAY_0']==0)&(df['strict_dec']==1)&(df['edu_2']==1)]))"
   ]
  },
  {
   "cell_type": "code",
   "execution_count": 281,
   "metadata": {
    "scrolled": true
   },
   "outputs": [
    {
     "name": "stdout",
     "output_type": "stream",
     "text": [
      "0.1701144366197183\n",
      "0.2\n",
      "0.21052631578947367\n",
      "0.0\n",
      "10\n",
      "19\n",
      "10\n"
     ]
    }
   ],
   "source": [
    "print(df[(df['PAY_0']==-1)]['default payment next month'].mean())\n",
    "print(df[(df['PAY_0']==-1)&(df['had_spike']==1)&(df['edu_1']==1)]['default payment next month'].mean())\n",
    "print(df[(df['PAY_0']==-1)&(df['had_spike']==1)&(df['edu_2']==1)]['default payment next month'].mean())\n",
    "print(df[(df['PAY_0']==-1)&(df['had_spike']==1)&(df['edu_3']==1)]['default payment next month'].mean())\n",
    "print(len(df[(df['PAY_0']==-1)&(df['had_spike']==1)&(df['edu_1']==1)]))\n",
    "print(len(df[(df['PAY_0']==-1)&(df['had_spike']==1)&(df['edu_2']==1)]))\n",
    "print(len(df[(df['PAY_0']==-1)&(df['had_spike']==1)&(df['edu_3']==1)]))"
   ]
  },
  {
   "cell_type": "code",
   "execution_count": 256,
   "metadata": {},
   "outputs": [
    {
     "data": {
      "text/plain": [
       "11"
      ]
     },
     "execution_count": 256,
     "metadata": {},
     "output_type": "execute_result"
    }
   ],
   "source": [
    "len(df[df['edu_0']==1])"
   ]
  },
  {
   "cell_type": "code",
   "execution_count": null,
   "metadata": {},
   "outputs": [],
   "source": [
    "df[(df['PAY_6']==0)&(df['strict_dec']==1)&(df['edu_1']==1)]['default payment next month']"
   ]
  },
  {
   "cell_type": "code",
   "execution_count": 282,
   "metadata": {},
   "outputs": [
    {
     "data": {
      "text/plain": [
       "array([[1.        , 0.07679614],\n",
       "       [0.07679614, 1.        ]])"
      ]
     },
     "execution_count": 282,
     "metadata": {},
     "output_type": "execute_result"
    },
    {
     "data": {
      "image/png": "[encoded data removed]",
      "text/plain": [
       "<Figure size 360x360 with 1 Axes>"
      ]
     },
     "metadata": {
      "needs_background": "light"
     },
     "output_type": "display_data"
    }
   ],
   "source": [
    "sns.lmplot(x='debt_ratio',y='default payment next month', \n",
    "           data=df[df['PAY_0']==0])\n",
    "np.corrcoef(df[df['PAY_0']==0]['debt_ratio'],df[df['PAY_0']==0]['default payment next month'])"
   ]
  },
  {
   "cell_type": "code",
   "execution_count": 301,
   "metadata": {},
   "outputs": [
    {
     "data": {
      "text/html": [
       "<div>\n",
       "<style scoped>\n",
       "    .dataframe tbody tr th:only-of-type {\n",
       "        vertical-align: middle;\n",
       "    }\n",
       "\n",
       "    .dataframe tbody tr th {\n",
       "        vertical-align: top;\n",
       "    }\n",
       "\n",
       "    .dataframe thead th {\n",
       "        text-align: right;\n",
       "    }\n",
       "</style>\n",
       "<table border=\"1\" class=\"dataframe\">\n",
       "  <thead>\n",
       "    <tr style=\"text-align: right;\">\n",
       "      <th></th>\n",
       "      <th>LIMIT_BAL</th>\n",
       "      <th>SEX</th>\n",
       "      <th>MARRIAGE</th>\n",
       "      <th>AGE</th>\n",
       "      <th>PAY_0</th>\n",
       "      <th>PAY_2</th>\n",
       "      <th>PAY_3</th>\n",
       "      <th>PAY_4</th>\n",
       "      <th>PAY_5</th>\n",
       "      <th>PAY_6</th>\n",
       "      <th>BILL_AMT1</th>\n",
       "      <th>BILL_AMT2</th>\n",
       "      <th>BILL_AMT3</th>\n",
       "      <th>BILL_AMT4</th>\n",
       "      <th>BILL_AMT5</th>\n",
       "      <th>BILL_AMT6</th>\n",
       "      <th>PAY_AMT1</th>\n",
       "      <th>PAY_AMT2</th>\n",
       "      <th>PAY_AMT3</th>\n",
       "      <th>PAY_AMT4</th>\n",
       "      <th>PAY_AMT5</th>\n",
       "      <th>PAY_AMT6</th>\n",
       "      <th>default payment next month</th>\n",
       "      <th>edu_0</th>\n",
       "      <th>edu_1</th>\n",
       "      <th>edu_2</th>\n",
       "      <th>edu_3</th>\n",
       "      <th>edu_4</th>\n",
       "      <th>edu_5</th>\n",
       "      <th>edu_6</th>\n",
       "      <th>strict_dec</th>\n",
       "      <th>strict_inc</th>\n",
       "      <th>debt_ratio</th>\n",
       "      <th>had_spike</th>\n",
       "      <th>bal_growth</th>\n",
       "      <th>final_growth</th>\n",
       "      <th>pay_cat_sum</th>\n",
       "      <th>good_payment_standing</th>\n",
       "      <th>bad_payment history</th>\n",
       "      <th>past_pay_cat_sum</th>\n",
       "      <th>good_standing_bad_history</th>\n",
       "      <th>under_25</th>\n",
       "      <th>25_to_35</th>\n",
       "      <th>35_to_54</th>\n",
       "      <th>55_and_up</th>\n",
       "      <th>retired_women</th>\n",
       "      <th>single_50s</th>\n",
       "    </tr>\n",
       "  </thead>\n",
       "  <tbody>\n",
       "    <tr>\n",
       "      <th>0</th>\n",
       "      <td>50000</td>\n",
       "      <td>0</td>\n",
       "      <td>0</td>\n",
       "      <td>49</td>\n",
       "      <td>0</td>\n",
       "      <td>0</td>\n",
       "      <td>0</td>\n",
       "      <td>0</td>\n",
       "      <td>0</td>\n",
       "      <td>0</td>\n",
       "      <td>90231</td>\n",
       "      <td>90647</td>\n",
       "      <td>92309</td>\n",
       "      <td>93880</td>\n",
       "      <td>99418</td>\n",
       "      <td>101392</td>\n",
       "      <td>2852</td>\n",
       "      <td>2784</td>\n",
       "      <td>2603</td>\n",
       "      <td>10000</td>\n",
       "      <td>3164</td>\n",
       "      <td>2868</td>\n",
       "      <td>1</td>\n",
       "      <td>0</td>\n",
       "      <td>0</td>\n",
       "      <td>1</td>\n",
       "      <td>0</td>\n",
       "      <td>0</td>\n",
       "      <td>0</td>\n",
       "      <td>0</td>\n",
       "      <td>0</td>\n",
       "      <td>1</td>\n",
       "      <td>2.027840</td>\n",
       "      <td>0</td>\n",
       "      <td>11161</td>\n",
       "      <td>1974</td>\n",
       "      <td>0.0</td>\n",
       "      <td>1</td>\n",
       "      <td>0</td>\n",
       "      <td>0.0</td>\n",
       "      <td>0</td>\n",
       "      <td>0</td>\n",
       "      <td>0</td>\n",
       "      <td>1</td>\n",
       "      <td>0</td>\n",
       "      <td>0</td>\n",
       "      <td>0</td>\n",
       "    </tr>\n",
       "    <tr>\n",
       "      <th>1</th>\n",
       "      <td>30000</td>\n",
       "      <td>0</td>\n",
       "      <td>1</td>\n",
       "      <td>39</td>\n",
       "      <td>0</td>\n",
       "      <td>0</td>\n",
       "      <td>0</td>\n",
       "      <td>0</td>\n",
       "      <td>0</td>\n",
       "      <td>0</td>\n",
       "      <td>20893</td>\n",
       "      <td>22206</td>\n",
       "      <td>19273</td>\n",
       "      <td>16469</td>\n",
       "      <td>14670</td>\n",
       "      <td>11214</td>\n",
       "      <td>2007</td>\n",
       "      <td>2000</td>\n",
       "      <td>2000</td>\n",
       "      <td>417</td>\n",
       "      <td>1500</td>\n",
       "      <td>1500</td>\n",
       "      <td>0</td>\n",
       "      <td>0</td>\n",
       "      <td>0</td>\n",
       "      <td>1</td>\n",
       "      <td>0</td>\n",
       "      <td>0</td>\n",
       "      <td>0</td>\n",
       "      <td>0</td>\n",
       "      <td>0</td>\n",
       "      <td>0</td>\n",
       "      <td>0.373800</td>\n",
       "      <td>0</td>\n",
       "      <td>-9679</td>\n",
       "      <td>-3456</td>\n",
       "      <td>0.0</td>\n",
       "      <td>1</td>\n",
       "      <td>0</td>\n",
       "      <td>0.0</td>\n",
       "      <td>0</td>\n",
       "      <td>0</td>\n",
       "      <td>0</td>\n",
       "      <td>1</td>\n",
       "      <td>0</td>\n",
       "      <td>0</td>\n",
       "      <td>0</td>\n",
       "    </tr>\n",
       "    <tr>\n",
       "      <th>2</th>\n",
       "      <td>260000</td>\n",
       "      <td>0</td>\n",
       "      <td>0</td>\n",
       "      <td>27</td>\n",
       "      <td>0</td>\n",
       "      <td>0</td>\n",
       "      <td>0</td>\n",
       "      <td>0</td>\n",
       "      <td>0</td>\n",
       "      <td>0</td>\n",
       "      <td>158711</td>\n",
       "      <td>129796</td>\n",
       "      <td>101721</td>\n",
       "      <td>76699</td>\n",
       "      <td>56738</td>\n",
       "      <td>39134</td>\n",
       "      <td>30000</td>\n",
       "      <td>4132</td>\n",
       "      <td>3410</td>\n",
       "      <td>2600</td>\n",
       "      <td>1800</td>\n",
       "      <td>1200</td>\n",
       "      <td>0</td>\n",
       "      <td>0</td>\n",
       "      <td>1</td>\n",
       "      <td>0</td>\n",
       "      <td>0</td>\n",
       "      <td>0</td>\n",
       "      <td>0</td>\n",
       "      <td>0</td>\n",
       "      <td>1</td>\n",
       "      <td>0</td>\n",
       "      <td>0.150515</td>\n",
       "      <td>0</td>\n",
       "      <td>-119577</td>\n",
       "      <td>-17604</td>\n",
       "      <td>0.0</td>\n",
       "      <td>1</td>\n",
       "      <td>0</td>\n",
       "      <td>0.0</td>\n",
       "      <td>0</td>\n",
       "      <td>0</td>\n",
       "      <td>1</td>\n",
       "      <td>0</td>\n",
       "      <td>0</td>\n",
       "      <td>0</td>\n",
       "      <td>0</td>\n",
       "    </tr>\n",
       "    <tr>\n",
       "      <th>3</th>\n",
       "      <td>200000</td>\n",
       "      <td>1</td>\n",
       "      <td>1</td>\n",
       "      <td>33</td>\n",
       "      <td>0</td>\n",
       "      <td>0</td>\n",
       "      <td>0</td>\n",
       "      <td>0</td>\n",
       "      <td>0</td>\n",
       "      <td>0</td>\n",
       "      <td>23762</td>\n",
       "      <td>25944</td>\n",
       "      <td>26988</td>\n",
       "      <td>25237</td>\n",
       "      <td>22131</td>\n",
       "      <td>13774</td>\n",
       "      <td>4000</td>\n",
       "      <td>2000</td>\n",
       "      <td>600</td>\n",
       "      <td>3000</td>\n",
       "      <td>4000</td>\n",
       "      <td>100</td>\n",
       "      <td>0</td>\n",
       "      <td>0</td>\n",
       "      <td>0</td>\n",
       "      <td>1</td>\n",
       "      <td>0</td>\n",
       "      <td>0</td>\n",
       "      <td>0</td>\n",
       "      <td>0</td>\n",
       "      <td>0</td>\n",
       "      <td>0</td>\n",
       "      <td>0.068870</td>\n",
       "      <td>0</td>\n",
       "      <td>-9988</td>\n",
       "      <td>-8357</td>\n",
       "      <td>0.0</td>\n",
       "      <td>1</td>\n",
       "      <td>0</td>\n",
       "      <td>0.0</td>\n",
       "      <td>0</td>\n",
       "      <td>0</td>\n",
       "      <td>1</td>\n",
       "      <td>0</td>\n",
       "      <td>0</td>\n",
       "      <td>0</td>\n",
       "      <td>0</td>\n",
       "    </tr>\n",
       "    <tr>\n",
       "      <th>4</th>\n",
       "      <td>50000</td>\n",
       "      <td>0</td>\n",
       "      <td>0</td>\n",
       "      <td>27</td>\n",
       "      <td>0</td>\n",
       "      <td>0</td>\n",
       "      <td>0</td>\n",
       "      <td>0</td>\n",
       "      <td>0</td>\n",
       "      <td>0</td>\n",
       "      <td>14614</td>\n",
       "      <td>15622</td>\n",
       "      <td>16342</td>\n",
       "      <td>17653</td>\n",
       "      <td>17697</td>\n",
       "      <td>18068</td>\n",
       "      <td>1558</td>\n",
       "      <td>1278</td>\n",
       "      <td>1589</td>\n",
       "      <td>633</td>\n",
       "      <td>656</td>\n",
       "      <td>783</td>\n",
       "      <td>0</td>\n",
       "      <td>0</td>\n",
       "      <td>1</td>\n",
       "      <td>0</td>\n",
       "      <td>0</td>\n",
       "      <td>0</td>\n",
       "      <td>0</td>\n",
       "      <td>0</td>\n",
       "      <td>0</td>\n",
       "      <td>1</td>\n",
       "      <td>0.361360</td>\n",
       "      <td>0</td>\n",
       "      <td>3454</td>\n",
       "      <td>371</td>\n",
       "      <td>0.0</td>\n",
       "      <td>1</td>\n",
       "      <td>0</td>\n",
       "      <td>0.0</td>\n",
       "      <td>0</td>\n",
       "      <td>0</td>\n",
       "      <td>1</td>\n",
       "      <td>0</td>\n",
       "      <td>0</td>\n",
       "      <td>0</td>\n",
       "      <td>0</td>\n",
       "    </tr>\n",
       "  </tbody>\n",
       "</table>\n",
       "</div>"
      ],
      "text/plain": [
       "   LIMIT_BAL  SEX  MARRIAGE  AGE  PAY_0  PAY_2  PAY_3  PAY_4  PAY_5  PAY_6  \\\n",
       "0      50000    0         0   49      0      0      0      0      0      0   \n",
       "1      30000    0         1   39      0      0      0      0      0      0   \n",
       "2     260000    0         0   27      0      0      0      0      0      0   \n",
       "3     200000    1         1   33      0      0      0      0      0      0   \n",
       "4      50000    0         0   27      0      0      0      0      0      0   \n",
       "\n",
       "   BILL_AMT1  BILL_AMT2  BILL_AMT3  BILL_AMT4  BILL_AMT5  BILL_AMT6  PAY_AMT1  \\\n",
       "0      90231      90647      92309      93880      99418     101392      2852   \n",
       "1      20893      22206      19273      16469      14670      11214      2007   \n",
       "2     158711     129796     101721      76699      56738      39134     30000   \n",
       "3      23762      25944      26988      25237      22131      13774      4000   \n",
       "4      14614      15622      16342      17653      17697      18068      1558   \n",
       "\n",
       "   PAY_AMT2  PAY_AMT3  PAY_AMT4  PAY_AMT5  PAY_AMT6  \\\n",
       "0      2784      2603     10000      3164      2868   \n",
       "1      2000      2000       417      1500      1500   \n",
       "2      4132      3410      2600      1800      1200   \n",
       "3      2000       600      3000      4000       100   \n",
       "4      1278      1589       633       656       783   \n",
       "\n",
       "   default payment next month  edu_0  edu_1  edu_2  edu_3  edu_4  edu_5  \\\n",
       "0                           1      0      0      1      0      0      0   \n",
       "1                           0      0      0      1      0      0      0   \n",
       "2                           0      0      1      0      0      0      0   \n",
       "3                           0      0      0      1      0      0      0   \n",
       "4                           0      0      1      0      0      0      0   \n",
       "\n",
       "   edu_6  strict_dec  strict_inc  debt_ratio  had_spike  bal_growth  \\\n",
       "0      0           0           1    2.027840          0       11161   \n",
       "1      0           0           0    0.373800          0       -9679   \n",
       "2      0           1           0    0.150515          0     -119577   \n",
       "3      0           0           0    0.068870          0       -9988   \n",
       "4      0           0           1    0.361360          0        3454   \n",
       "\n",
       "   final_growth  pay_cat_sum  good_payment_standing  bad_payment history  \\\n",
       "0          1974          0.0                      1                    0   \n",
       "1         -3456          0.0                      1                    0   \n",
       "2        -17604          0.0                      1                    0   \n",
       "3         -8357          0.0                      1                    0   \n",
       "4           371          0.0                      1                    0   \n",
       "\n",
       "   past_pay_cat_sum  good_standing_bad_history  under_25  25_to_35  35_to_54  \\\n",
       "0               0.0                          0         0         0         1   \n",
       "1               0.0                          0         0         0         1   \n",
       "2               0.0                          0         0         1         0   \n",
       "3               0.0                          0         0         1         0   \n",
       "4               0.0                          0         0         1         0   \n",
       "\n",
       "   55_and_up  retired_women  single_50s  \n",
       "0          0              0           0  \n",
       "1          0              0           0  \n",
       "2          0              0           0  \n",
       "3          0              0           0  \n",
       "4          0              0           0  "
      ]
     },
     "execution_count": 301,
     "metadata": {},
     "output_type": "execute_result"
    }
   ],
   "source": [
    "df.head()"
   ]
  },
  {
   "cell_type": "code",
   "execution_count": null,
   "metadata": {},
   "outputs": [],
   "source": [
    "sns.lmplot(x='BILL_AMT1',y='default payment next month', \n",
    "           data=df[df['PAY_0']==0])\n",
    "np.corrcoef(df[df['PAY_0']==0]['debt_ratio'],df[df['PAY_0']==0]['default payment next month'])"
   ]
  },
  {
   "cell_type": "code",
   "execution_count": 319,
   "metadata": {},
   "outputs": [
    {
     "data": {
      "text/plain": [
       "array([[ 1.        , -0.15283784],\n",
       "       [-0.15283784,  1.        ]])"
      ]
     },
     "execution_count": 319,
     "metadata": {},
     "output_type": "execute_result"
    },
    {
     "data": {
      "image/png": "[encoded data removed]",
      "text/plain": [
       "<Figure size 360x360 with 1 Axes>"
      ]
     },
     "metadata": {
      "needs_background": "light"
     },
     "output_type": "display_data"
    }
   ],
   "source": [
    "sns.lmplot(x='LIMIT_BAL',y='default payment next month', \n",
    "           data=df,logistic=True)\n",
    "np.corrcoef(df['LIMIT_BAL'],df['default payment next month'])"
   ]
  },
  {
   "cell_type": "code",
   "execution_count": null,
   "metadata": {},
   "outputs": [],
   "source": []
  },
  {
   "cell_type": "code",
   "execution_count": null,
   "metadata": {},
   "outputs": [],
   "source": []
  },
  {
   "cell_type": "code",
   "execution_count": null,
   "metadata": {},
   "outputs": [],
   "source": []
  },
  {
   "cell_type": "code",
   "execution_count": null,
   "metadata": {},
   "outputs": [],
   "source": []
  },
  {
   "cell_type": "code",
   "execution_count": null,
   "metadata": {},
   "outputs": [],
   "source": []
  },
  {
   "cell_type": "code",
   "execution_count": null,
   "metadata": {},
   "outputs": [],
   "source": []
  },
  {
   "cell_type": "code",
   "execution_count": null,
   "metadata": {},
   "outputs": [],
   "source": []
  },
  {
   "cell_type": "markdown",
   "metadata": {},
   "source": [
    "## 4. Feature Selection"
   ]
  },
  {
   "cell_type": "code",
   "execution_count": null,
   "metadata": {},
   "outputs": [],
   "source": []
  },
  {
   "cell_type": "code",
   "execution_count": null,
   "metadata": {},
   "outputs": [],
   "source": []
  },
  {
   "cell_type": "markdown",
   "metadata": {},
   "source": [
    "## Baseline model for comparisons"
   ]
  },
  {
   "cell_type": "code",
   "execution_count": 325,
   "metadata": {},
   "outputs": [
    {
     "name": "stdout",
     "output_type": "stream",
     "text": [
      "Accuracy:  0.8154166666666667\n",
      "F1:  0.35610465116279066\n"
     ]
    },
    {
     "name": "stderr",
     "output_type": "stream",
     "text": [
      "/anaconda3/lib/python3.7/site-packages/sklearn/preprocessing/data.py:625: DataConversionWarning: Data with input dtype int64 were all converted to float64 by StandardScaler.\n",
      "  return self.partial_fit(X, y)\n",
      "/anaconda3/lib/python3.7/site-packages/ipykernel_launcher.py:9: DataConversionWarning: Data with input dtype int64 were all converted to float64 by StandardScaler.\n",
      "  if __name__ == '__main__':\n",
      "/anaconda3/lib/python3.7/site-packages/ipykernel_launcher.py:10: DataConversionWarning: Data with input dtype int64 were all converted to float64 by StandardScaler.\n",
      "  # Remove the CWD from sys.path while we load stuff.\n",
      "/anaconda3/lib/python3.7/site-packages/sklearn/linear_model/logistic.py:433: FutureWarning: Default solver will be changed to 'lbfgs' in 0.22. Specify a solver to silence this warning.\n",
      "  FutureWarning)\n"
     ]
    }
   ],
   "source": [
    "#baseline logistic regression\n",
    "test_df = pd.read_csv('classification_lab_data.csv')\n",
    "y = test_df['default payment next month']\n",
    "test_df.drop(['default payment next month'], axis=1, inplace=True)\n",
    "X_train, X_test, y_train, y_test = train_test_split(test_df, y, test_size=0.2)\n",
    "\n",
    "scaler = StandardScaler()\n",
    "scaler.fit(X_train)\n",
    "X_train =pd.DataFrame(data=scaler.transform(X_train), columns=test_df.columns)\n",
    "X_test =pd.DataFrame(data=scaler.transform(X_test), columns=test_df.columns)\n",
    "\n",
    "from sklearn.linear_model import LogisticRegression\n",
    "logreg = LogisticRegression()\n",
    "logreg.fit(X_train, y_train)\n",
    "y_pred = logreg.predict(X_test)\n",
    "print('Accuracy: ',metrics.accuracy_score(y_pred, y_test))\n",
    "print('F1: ',metrics.f1_score(y_pred, y_test))"
   ]
  },
  {
   "cell_type": "code",
   "execution_count": 367,
   "metadata": {},
   "outputs": [
    {
     "name": "stderr",
     "output_type": "stream",
     "text": [
      "/anaconda3/lib/python3.7/site-packages/sklearn/preprocessing/data.py:625: DataConversionWarning: Data with input dtype int64 were all converted to float64 by StandardScaler.\n",
      "  return self.partial_fit(X, y)\n",
      "/anaconda3/lib/python3.7/site-packages/ipykernel_launcher.py:17: DataConversionWarning: Data with input dtype int64 were all converted to float64 by StandardScaler.\n",
      "/anaconda3/lib/python3.7/site-packages/ipykernel_launcher.py:18: DataConversionWarning: Data with input dtype int64 were all converted to float64 by StandardScaler.\n",
      "/anaconda3/lib/python3.7/site-packages/sklearn/linear_model/logistic.py:433: FutureWarning: Default solver will be changed to 'lbfgs' in 0.22. Specify a solver to silence this warning.\n",
      "  FutureWarning)\n"
     ]
    },
    {
     "name": "stdout",
     "output_type": "stream",
     "text": [
      "Accuracy:  0.674200882706968\n",
      "F1:  0.6653846153846154\n"
     ]
    }
   ],
   "source": [
    "#Same, but with upsampling to deal with class imbalance\n",
    "from sklearn.utils import resample\n",
    "upsampling = pd.read_csv('classification_lab_data.csv')\n",
    "default = upsampling[upsampling['default payment next month']==1]\n",
    "no_default = upsampling[upsampling['default payment next month']==0]\n",
    "default_upsampled = resample(default,\n",
    "                          replace=True, # sample with replacement\n",
    "                          n_samples=len(no_default)) # match number in majority class)\n",
    "upsampled = pd.concat([no_default,default_upsampled])\n",
    "y_upsampled = upsampled['default payment next month']\n",
    "upsampled.drop(['default payment next month'], axis=1, inplace=True)\n",
    "\n",
    "X_train, X_test, y_train, y_test = train_test_split(upsampled, y_upsampled, test_size=0.2)\n",
    "\n",
    "scaler = StandardScaler()\n",
    "scaler.fit(X_train)\n",
    "X_train =pd.DataFrame(data=scaler.transform(X_train), columns=test_df.columns)\n",
    "X_test =pd.DataFrame(data=scaler.transform(X_test), columns=test_df.columns)\n",
    "\n",
    "from sklearn.linear_model import LogisticRegression\n",
    "logreg = LogisticRegression()\n",
    "logreg.fit(X_train, y_train)\n",
    "y_pred = logreg.predict(X_test)\n",
    "print('Accuracy: ',metrics.accuracy_score(y_pred, y_test))\n",
    "print('F1: ',metrics.f1_score(y_pred, y_test))"
   ]
  },
  {
   "cell_type": "code",
   "execution_count": 368,
   "metadata": {},
   "outputs": [
    {
     "name": "stdout",
     "output_type": "stream",
     "text": [
      "Accuracy:  0.8058044670322322\n",
      "F1:  0.8214900417998525\n"
     ]
    }
   ],
   "source": [
    "knn = KNeighborsClassifier(n_neighbors=3)\n",
    "knn.fit(X_train, y_train)\n",
    "y_knn_pred = knn.predict(X_test)\n",
    "print('Accuracy: ',metrics.accuracy_score(y_knn_pred, y_test))\n",
    "print('F1: ',metrics.f1_score(y_knn_pred, y_test))"
   ]
  },
  {
   "cell_type": "code",
   "execution_count": 342,
   "metadata": {},
   "outputs": [
    {
     "data": {
      "text/html": [
       "<div>\n",
       "<style scoped>\n",
       "    .dataframe tbody tr th:only-of-type {\n",
       "        vertical-align: middle;\n",
       "    }\n",
       "\n",
       "    .dataframe tbody tr th {\n",
       "        vertical-align: top;\n",
       "    }\n",
       "\n",
       "    .dataframe thead th {\n",
       "        text-align: right;\n",
       "    }\n",
       "</style>\n",
       "<table border=\"1\" class=\"dataframe\">\n",
       "  <thead>\n",
       "    <tr style=\"text-align: right;\">\n",
       "      <th></th>\n",
       "      <th>LIMIT_BAL</th>\n",
       "      <th>SEX</th>\n",
       "      <th>MARRIAGE</th>\n",
       "      <th>AGE</th>\n",
       "      <th>PAY_0</th>\n",
       "      <th>PAY_2</th>\n",
       "      <th>PAY_3</th>\n",
       "      <th>PAY_4</th>\n",
       "      <th>PAY_5</th>\n",
       "      <th>PAY_6</th>\n",
       "      <th>BILL_AMT1</th>\n",
       "      <th>BILL_AMT2</th>\n",
       "      <th>BILL_AMT3</th>\n",
       "      <th>BILL_AMT4</th>\n",
       "      <th>BILL_AMT5</th>\n",
       "      <th>BILL_AMT6</th>\n",
       "      <th>PAY_AMT1</th>\n",
       "      <th>PAY_AMT2</th>\n",
       "      <th>PAY_AMT3</th>\n",
       "      <th>PAY_AMT4</th>\n",
       "      <th>PAY_AMT5</th>\n",
       "      <th>PAY_AMT6</th>\n",
       "      <th>default payment next month</th>\n",
       "      <th>edu_0</th>\n",
       "      <th>edu_1</th>\n",
       "      <th>edu_2</th>\n",
       "      <th>edu_3</th>\n",
       "      <th>edu_4</th>\n",
       "      <th>edu_5</th>\n",
       "      <th>edu_6</th>\n",
       "      <th>strict_dec</th>\n",
       "      <th>strict_inc</th>\n",
       "      <th>debt_ratio</th>\n",
       "      <th>had_spike</th>\n",
       "      <th>bal_growth</th>\n",
       "      <th>final_growth</th>\n",
       "      <th>pay_cat_sum</th>\n",
       "      <th>good_payment_standing</th>\n",
       "      <th>bad_payment history</th>\n",
       "      <th>past_pay_cat_sum</th>\n",
       "      <th>good_standing_bad_history</th>\n",
       "      <th>under_25</th>\n",
       "      <th>25_to_35</th>\n",
       "      <th>35_to_54</th>\n",
       "      <th>55_and_up</th>\n",
       "      <th>retired_women</th>\n",
       "      <th>single_50s</th>\n",
       "    </tr>\n",
       "  </thead>\n",
       "  <tbody>\n",
       "    <tr>\n",
       "      <th>0</th>\n",
       "      <td>50000</td>\n",
       "      <td>0</td>\n",
       "      <td>0</td>\n",
       "      <td>49</td>\n",
       "      <td>0</td>\n",
       "      <td>0</td>\n",
       "      <td>0</td>\n",
       "      <td>0</td>\n",
       "      <td>0</td>\n",
       "      <td>0</td>\n",
       "      <td>90231</td>\n",
       "      <td>90647</td>\n",
       "      <td>92309</td>\n",
       "      <td>93880</td>\n",
       "      <td>99418</td>\n",
       "      <td>101392</td>\n",
       "      <td>2852</td>\n",
       "      <td>2784</td>\n",
       "      <td>2603</td>\n",
       "      <td>10000</td>\n",
       "      <td>3164</td>\n",
       "      <td>2868</td>\n",
       "      <td>1</td>\n",
       "      <td>0</td>\n",
       "      <td>0</td>\n",
       "      <td>1</td>\n",
       "      <td>0</td>\n",
       "      <td>0</td>\n",
       "      <td>0</td>\n",
       "      <td>0</td>\n",
       "      <td>1</td>\n",
       "      <td>0</td>\n",
       "      <td>1.804620</td>\n",
       "      <td>0</td>\n",
       "      <td>-11161</td>\n",
       "      <td>-416</td>\n",
       "      <td>0.0</td>\n",
       "      <td>1</td>\n",
       "      <td>0</td>\n",
       "      <td>0.0</td>\n",
       "      <td>0</td>\n",
       "      <td>0</td>\n",
       "      <td>0</td>\n",
       "      <td>1</td>\n",
       "      <td>0</td>\n",
       "      <td>0</td>\n",
       "      <td>0</td>\n",
       "    </tr>\n",
       "    <tr>\n",
       "      <th>1</th>\n",
       "      <td>30000</td>\n",
       "      <td>0</td>\n",
       "      <td>1</td>\n",
       "      <td>39</td>\n",
       "      <td>0</td>\n",
       "      <td>0</td>\n",
       "      <td>0</td>\n",
       "      <td>0</td>\n",
       "      <td>0</td>\n",
       "      <td>0</td>\n",
       "      <td>20893</td>\n",
       "      <td>22206</td>\n",
       "      <td>19273</td>\n",
       "      <td>16469</td>\n",
       "      <td>14670</td>\n",
       "      <td>11214</td>\n",
       "      <td>2007</td>\n",
       "      <td>2000</td>\n",
       "      <td>2000</td>\n",
       "      <td>417</td>\n",
       "      <td>1500</td>\n",
       "      <td>1500</td>\n",
       "      <td>0</td>\n",
       "      <td>0</td>\n",
       "      <td>0</td>\n",
       "      <td>1</td>\n",
       "      <td>0</td>\n",
       "      <td>0</td>\n",
       "      <td>0</td>\n",
       "      <td>0</td>\n",
       "      <td>0</td>\n",
       "      <td>0</td>\n",
       "      <td>0.696433</td>\n",
       "      <td>0</td>\n",
       "      <td>9679</td>\n",
       "      <td>-1313</td>\n",
       "      <td>0.0</td>\n",
       "      <td>1</td>\n",
       "      <td>0</td>\n",
       "      <td>0.0</td>\n",
       "      <td>0</td>\n",
       "      <td>0</td>\n",
       "      <td>0</td>\n",
       "      <td>1</td>\n",
       "      <td>0</td>\n",
       "      <td>0</td>\n",
       "      <td>0</td>\n",
       "    </tr>\n",
       "    <tr>\n",
       "      <th>2</th>\n",
       "      <td>260000</td>\n",
       "      <td>0</td>\n",
       "      <td>0</td>\n",
       "      <td>27</td>\n",
       "      <td>0</td>\n",
       "      <td>0</td>\n",
       "      <td>0</td>\n",
       "      <td>0</td>\n",
       "      <td>0</td>\n",
       "      <td>0</td>\n",
       "      <td>158711</td>\n",
       "      <td>129796</td>\n",
       "      <td>101721</td>\n",
       "      <td>76699</td>\n",
       "      <td>56738</td>\n",
       "      <td>39134</td>\n",
       "      <td>30000</td>\n",
       "      <td>4132</td>\n",
       "      <td>3410</td>\n",
       "      <td>2600</td>\n",
       "      <td>1800</td>\n",
       "      <td>1200</td>\n",
       "      <td>0</td>\n",
       "      <td>0</td>\n",
       "      <td>1</td>\n",
       "      <td>0</td>\n",
       "      <td>0</td>\n",
       "      <td>0</td>\n",
       "      <td>0</td>\n",
       "      <td>0</td>\n",
       "      <td>0</td>\n",
       "      <td>1</td>\n",
       "      <td>0.610427</td>\n",
       "      <td>0</td>\n",
       "      <td>119577</td>\n",
       "      <td>28915</td>\n",
       "      <td>0.0</td>\n",
       "      <td>1</td>\n",
       "      <td>0</td>\n",
       "      <td>0.0</td>\n",
       "      <td>0</td>\n",
       "      <td>0</td>\n",
       "      <td>1</td>\n",
       "      <td>0</td>\n",
       "      <td>0</td>\n",
       "      <td>0</td>\n",
       "      <td>0</td>\n",
       "    </tr>\n",
       "    <tr>\n",
       "      <th>3</th>\n",
       "      <td>200000</td>\n",
       "      <td>1</td>\n",
       "      <td>1</td>\n",
       "      <td>33</td>\n",
       "      <td>0</td>\n",
       "      <td>0</td>\n",
       "      <td>0</td>\n",
       "      <td>0</td>\n",
       "      <td>0</td>\n",
       "      <td>0</td>\n",
       "      <td>23762</td>\n",
       "      <td>25944</td>\n",
       "      <td>26988</td>\n",
       "      <td>25237</td>\n",
       "      <td>22131</td>\n",
       "      <td>13774</td>\n",
       "      <td>4000</td>\n",
       "      <td>2000</td>\n",
       "      <td>600</td>\n",
       "      <td>3000</td>\n",
       "      <td>4000</td>\n",
       "      <td>100</td>\n",
       "      <td>0</td>\n",
       "      <td>0</td>\n",
       "      <td>0</td>\n",
       "      <td>1</td>\n",
       "      <td>0</td>\n",
       "      <td>0</td>\n",
       "      <td>0</td>\n",
       "      <td>0</td>\n",
       "      <td>0</td>\n",
       "      <td>0</td>\n",
       "      <td>0.118810</td>\n",
       "      <td>0</td>\n",
       "      <td>9988</td>\n",
       "      <td>-2182</td>\n",
       "      <td>0.0</td>\n",
       "      <td>1</td>\n",
       "      <td>0</td>\n",
       "      <td>0.0</td>\n",
       "      <td>0</td>\n",
       "      <td>0</td>\n",
       "      <td>1</td>\n",
       "      <td>0</td>\n",
       "      <td>0</td>\n",
       "      <td>0</td>\n",
       "      <td>0</td>\n",
       "    </tr>\n",
       "    <tr>\n",
       "      <th>4</th>\n",
       "      <td>50000</td>\n",
       "      <td>0</td>\n",
       "      <td>0</td>\n",
       "      <td>27</td>\n",
       "      <td>0</td>\n",
       "      <td>0</td>\n",
       "      <td>0</td>\n",
       "      <td>0</td>\n",
       "      <td>0</td>\n",
       "      <td>0</td>\n",
       "      <td>14614</td>\n",
       "      <td>15622</td>\n",
       "      <td>16342</td>\n",
       "      <td>17653</td>\n",
       "      <td>17697</td>\n",
       "      <td>18068</td>\n",
       "      <td>1558</td>\n",
       "      <td>1278</td>\n",
       "      <td>1589</td>\n",
       "      <td>633</td>\n",
       "      <td>656</td>\n",
       "      <td>783</td>\n",
       "      <td>0</td>\n",
       "      <td>0</td>\n",
       "      <td>1</td>\n",
       "      <td>0</td>\n",
       "      <td>0</td>\n",
       "      <td>0</td>\n",
       "      <td>0</td>\n",
       "      <td>0</td>\n",
       "      <td>1</td>\n",
       "      <td>0</td>\n",
       "      <td>0.292280</td>\n",
       "      <td>0</td>\n",
       "      <td>-3454</td>\n",
       "      <td>-1008</td>\n",
       "      <td>0.0</td>\n",
       "      <td>1</td>\n",
       "      <td>0</td>\n",
       "      <td>0.0</td>\n",
       "      <td>0</td>\n",
       "      <td>0</td>\n",
       "      <td>1</td>\n",
       "      <td>0</td>\n",
       "      <td>0</td>\n",
       "      <td>0</td>\n",
       "      <td>0</td>\n",
       "    </tr>\n",
       "  </tbody>\n",
       "</table>\n",
       "</div>"
      ],
      "text/plain": [
       "   LIMIT_BAL  SEX  MARRIAGE  AGE  PAY_0  PAY_2  PAY_3  PAY_4  PAY_5  PAY_6  \\\n",
       "0      50000    0         0   49      0      0      0      0      0      0   \n",
       "1      30000    0         1   39      0      0      0      0      0      0   \n",
       "2     260000    0         0   27      0      0      0      0      0      0   \n",
       "3     200000    1         1   33      0      0      0      0      0      0   \n",
       "4      50000    0         0   27      0      0      0      0      0      0   \n",
       "\n",
       "   BILL_AMT1  BILL_AMT2  BILL_AMT3  BILL_AMT4  BILL_AMT5  BILL_AMT6  PAY_AMT1  \\\n",
       "0      90231      90647      92309      93880      99418     101392      2852   \n",
       "1      20893      22206      19273      16469      14670      11214      2007   \n",
       "2     158711     129796     101721      76699      56738      39134     30000   \n",
       "3      23762      25944      26988      25237      22131      13774      4000   \n",
       "4      14614      15622      16342      17653      17697      18068      1558   \n",
       "\n",
       "   PAY_AMT2  PAY_AMT3  PAY_AMT4  PAY_AMT5  PAY_AMT6  \\\n",
       "0      2784      2603     10000      3164      2868   \n",
       "1      2000      2000       417      1500      1500   \n",
       "2      4132      3410      2600      1800      1200   \n",
       "3      2000       600      3000      4000       100   \n",
       "4      1278      1589       633       656       783   \n",
       "\n",
       "   default payment next month  edu_0  edu_1  edu_2  edu_3  edu_4  edu_5  \\\n",
       "0                           1      0      0      1      0      0      0   \n",
       "1                           0      0      0      1      0      0      0   \n",
       "2                           0      0      1      0      0      0      0   \n",
       "3                           0      0      0      1      0      0      0   \n",
       "4                           0      0      1      0      0      0      0   \n",
       "\n",
       "   edu_6  strict_dec  strict_inc  debt_ratio  had_spike  bal_growth  \\\n",
       "0      0           1           0    1.804620          0      -11161   \n",
       "1      0           0           0    0.696433          0        9679   \n",
       "2      0           0           1    0.610427          0      119577   \n",
       "3      0           0           0    0.118810          0        9988   \n",
       "4      0           1           0    0.292280          0       -3454   \n",
       "\n",
       "   final_growth  pay_cat_sum  good_payment_standing  bad_payment history  \\\n",
       "0          -416          0.0                      1                    0   \n",
       "1         -1313          0.0                      1                    0   \n",
       "2         28915          0.0                      1                    0   \n",
       "3         -2182          0.0                      1                    0   \n",
       "4         -1008          0.0                      1                    0   \n",
       "\n",
       "   past_pay_cat_sum  good_standing_bad_history  under_25  25_to_35  35_to_54  \\\n",
       "0               0.0                          0         0         0         1   \n",
       "1               0.0                          0         0         0         1   \n",
       "2               0.0                          0         0         1         0   \n",
       "3               0.0                          0         0         1         0   \n",
       "4               0.0                          0         0         1         0   \n",
       "\n",
       "   55_and_up  retired_women  single_50s  \n",
       "0          0              0           0  \n",
       "1          0              0           0  \n",
       "2          0              0           0  \n",
       "3          0              0           0  \n",
       "4          0              0           0  "
      ]
     },
     "execution_count": 342,
     "metadata": {},
     "output_type": "execute_result"
    }
   ],
   "source": [
    "df.head()"
   ]
  },
  {
   "cell_type": "markdown",
   "metadata": {},
   "source": [
    "## 5. Model Fitting and Hyperparameter Tuning\n",
    "KNN, Logistic Regression, Decision Tree"
   ]
  },
  {
   "cell_type": "code",
   "execution_count": 369,
   "metadata": {},
   "outputs": [
    {
     "name": "stderr",
     "output_type": "stream",
     "text": [
      "/anaconda3/lib/python3.7/site-packages/sklearn/preprocessing/data.py:625: DataConversionWarning: Data with input dtype uint8, int64, float64 were all converted to float64 by StandardScaler.\n",
      "  return self.partial_fit(X, y)\n",
      "/anaconda3/lib/python3.7/site-packages/ipykernel_launcher.py:21: DataConversionWarning: Data with input dtype uint8, int64, float64 were all converted to float64 by StandardScaler.\n",
      "/anaconda3/lib/python3.7/site-packages/ipykernel_launcher.py:22: DataConversionWarning: Data with input dtype uint8, int64, float64 were all converted to float64 by StandardScaler.\n",
      "/anaconda3/lib/python3.7/site-packages/sklearn/linear_model/logistic.py:433: FutureWarning: Default solver will be changed to 'lbfgs' in 0.22. Specify a solver to silence this warning.\n",
      "  FutureWarning)\n"
     ]
    },
    {
     "name": "stdout",
     "output_type": "stream",
     "text": [
      "Accuracy:  0.7071017787882841\n",
      "F1:  0.6776567559611422\n"
     ]
    }
   ],
   "source": [
    "df.head()\n",
    "feature_list= ['LIMIT_BAL','SEX','MARRIAGE','edu_0','edu_1','edu_2','edu_3','edu_4','edu_5','edu_6',\n",
    "               'strict_inc','pay_cat_sum','good_payment_standing','bad_payment history','past_pay_cat_sum',\n",
    "              'good_standing_bad_history','under_25','35_to_54','55_and_up','retired_women','single_50s','debt_ratio']\n",
    "\n",
    "logistic1 = df[['default payment next month'] + feature_list]\n",
    "log_default = logistic1[logistic1['default payment next month']==1]\n",
    "log_no_default = logistic1[logistic1['default payment next month']==0]\n",
    "log_default_upsampled = resample(log_default,\n",
    "                          replace=True, # sample with replacement\n",
    "                          n_samples=len(log_no_default)) # match number in majority class)\n",
    "log_upsampled = pd.concat([log_no_default,log_default_upsampled])\n",
    "\n",
    "log_y = log_upsampled['default payment next month']\n",
    "log_features = log_upsampled.drop(['default payment next month'], axis=1)\n",
    "\n",
    "X_train, X_test, y_train, y_test = train_test_split(log_features, log_y, test_size=0.2)\n",
    "\n",
    "scaler = StandardScaler()\n",
    "scaler.fit(X_train)\n",
    "X_train =pd.DataFrame(data=scaler.transform(X_train), columns=log_features.columns)\n",
    "X_test =pd.DataFrame(data=scaler.transform(X_test), columns=log_features.columns)\n",
    "\n",
    "logreg = LogisticRegression()\n",
    "logreg.fit(X_train, y_train)\n",
    "y_pred = logreg.predict(X_test)\n",
    "print('Accuracy: ',metrics.accuracy_score(y_pred, y_test))\n",
    "print('F1: ',metrics.f1_score(y_pred, y_test))"
   ]
  },
  {
   "cell_type": "code",
   "execution_count": null,
   "metadata": {},
   "outputs": [],
   "source": []
  },
  {
   "cell_type": "code",
   "execution_count": 372,
   "metadata": {},
   "outputs": [
    {
     "name": "stdout",
     "output_type": "stream",
     "text": [
      "Accuracy:  0.8721412331148857\n",
      "F1:  0.8802005012531329\n"
     ]
    }
   ],
   "source": [
    "from sklearn.neighbors import KNeighborsClassifier\n",
    "knn = KNeighborsClassifier(n_neighbors=1)\n",
    "knn.fit(X_train, y_train)\n",
    "y_knn_pred = knn.predict(X_test)\n",
    "print('Accuracy: ',metrics.accuracy_score(y_knn_pred, y_test))\n",
    "print('F1: ',metrics.f1_score(y_knn_pred, y_test))"
   ]
  },
  {
   "cell_type": "code",
   "execution_count": 362,
   "metadata": {},
   "outputs": [],
   "source": [
    "F1_list = []\n",
    "k_range = list(range(1,17,2))\n",
    "for k in range(1,17,2):\n",
    "    knn = KNeighborsClassifier(n_neighbors=k)\n",
    "    knn.fit(X_train, y_train)\n",
    "    y_knn_pred = knn.predict(X_test)\n",
    "    F1_list.append(metrics.f1_score(y_knn_pred, y_test))"
   ]
  },
  {
   "cell_type": "code",
   "execution_count": 363,
   "metadata": {
    "scrolled": true
   },
   "outputs": [
    {
     "data": {
      "text/plain": [
       "[<matplotlib.lines.Line2D at 0x1a26afd8d0>]"
      ]
     },
     "execution_count": 363,
     "metadata": {},
     "output_type": "execute_result"
    },
    {
     "data": {
      "image/png": "[encoded data removed]",
      "text/plain": [
       "<Figure size 432x288 with 1 Axes>"
      ]
     },
     "metadata": {
      "needs_background": "light"
     },
     "output_type": "display_data"
    }
   ],
   "source": [
    "plt.plot(k_range,F1_list)"
   ]
  },
  {
   "cell_type": "code",
   "execution_count": 364,
   "metadata": {},
   "outputs": [
    {
     "data": {
      "text/plain": [
       "0.8853188334157193"
      ]
     },
     "execution_count": 364,
     "metadata": {},
     "output_type": "execute_result"
    }
   ],
   "source": [
    "max(F1_list)"
   ]
  },
  {
   "cell_type": "code",
   "execution_count": 352,
   "metadata": {},
   "outputs": [
    {
     "name": "stdout",
     "output_type": "stream",
     "text": [
      "Accuracy:  0.7026882439481076\n",
      "F1:  0.7028472129394465\n"
     ]
    }
   ],
   "source": [
    "from sklearn.tree import DecisionTreeClassifier\n",
    "tree_clf = DecisionTreeClassifier(max_depth=4,criterion='entropy')\n",
    "tree_clf.fit(X_train, y_train)\n",
    "y_pred_tree = tree_clf.predict(X_test)\n",
    "print('Accuracy: ',metrics.accuracy_score(y_pred_tree, y_test))\n",
    "print('F1: ',metrics.f1_score(y_pred_tree, y_test))"
   ]
  },
  {
   "cell_type": "code",
   "execution_count": 366,
   "metadata": {},
   "outputs": [
    {
     "data": {
      "text/plain": [
       "[<matplotlib.lines.Line2D at 0x1a26d3f860>]"
      ]
     },
     "execution_count": 366,
     "metadata": {},
     "output_type": "execute_result"
    },
    {
     "data": {
      "image/png": "[encoded data removed]",
      "text/plain": [
       "<Figure size 432x288 with 1 Axes>"
      ]
     },
     "metadata": {
      "needs_background": "light"
     },
     "output_type": "display_data"
    }
   ],
   "source": [
    "depths = list(range(1,50))\n",
    "F1_list = []\n",
    "for depth in depths:\n",
    "    tree_clf = DecisionTreeClassifier(max_depth=depth,criterion='entropy')\n",
    "    tree_clf.fit(X_train, y_train)\n",
    "    y_pred_tree = tree_clf.predict(X_test)\n",
    "    F1_list.append(metrics.f1_score(y_pred_tree, y_test))\n",
    "plt.plot(depths,F1_list)"
   ]
  },
  {
   "cell_type": "code",
   "execution_count": 361,
   "metadata": {},
   "outputs": [
    {
     "data": {
      "text/plain": [
       "0.8900976634936333"
      ]
     },
     "execution_count": 361,
     "metadata": {},
     "output_type": "execute_result"
    }
   ],
   "source": [
    "max(F1_list)"
   ]
  },
  {
   "cell_type": "code",
   "execution_count": 377,
   "metadata": {},
   "outputs": [
    {
     "data": {
      "text/plain": [
       "array([[1.00000000e+00, 5.00000000e+04, 0.00000000e+00, ...,\n",
       "        0.00000000e+00, 0.00000000e+00, 3.25665334e+00],\n",
       "       [1.00000000e+00, 3.00000000e+04, 0.00000000e+00, ...,\n",
       "        0.00000000e+00, 0.00000000e+00, 4.85019388e-01],\n",
       "       [1.00000000e+00, 2.60000000e+05, 0.00000000e+00, ...,\n",
       "        0.00000000e+00, 0.00000000e+00, 3.72621028e-01],\n",
       "       ...,\n",
       "       [1.00000000e+00, 5.00000000e+04, 1.00000000e+00, ...,\n",
       "        0.00000000e+00, 0.00000000e+00, 2.67603794e+00],\n",
       "       [1.00000000e+00, 3.00000000e+05, 0.00000000e+00, ...,\n",
       "        0.00000000e+00, 0.00000000e+00, 4.00267111e-05],\n",
       "       [1.00000000e+00, 6.00000000e+04, 1.00000000e+00, ...,\n",
       "        0.00000000e+00, 0.00000000e+00, 2.07738447e-01]])"
      ]
     },
     "execution_count": 377,
     "metadata": {},
     "output_type": "execute_result"
    }
   ],
   "source": [
    "poly_df"
   ]
  },
  {
   "cell_type": "code",
   "execution_count": 378,
   "metadata": {},
   "outputs": [],
   "source": [
    "from sklearn.preprocessing import PolynomialFeatures\n",
    "poly = PolynomialFeatures(2)\n",
    "poly_df = pd.DataFrame(poly.fit_transform(df[feature_list]))\n",
    "\n",
    "poly_df['default payment next month'] = df['default payment next month']\n",
    "poly_default = poly_df[poly_df['default payment next month']==1]\n",
    "poly_no_default = poly_df[poly_df['default payment next month']==0]\n",
    "\n",
    "poly_default_upsampled = resample(poly_default,\n",
    "                          replace=True, # sample with replacement\n",
    "                          n_samples=len(poly_no_default)) # match number in majority class)\n",
    "\n",
    "\n",
    "poly_upsampled = pd.concat([poly_no_default,poly_default_upsampled])\n",
    "ys = poly_upsampled['default payment next month']\n",
    "poly_features = poly_upsampled.drop(['default payment next month'],axis=1)\n",
    "\n",
    "X_train, X_test, y_train, y_test = train_test_split(poly_features, ys, test_size=0.2)\n",
    "scaler = StandardScaler()\n",
    "scaler.fit(X_train)\n",
    "X_train =pd.DataFrame(data=scaler.transform(X_train), columns=poly_features.columns)\n",
    "X_test =pd.DataFrame(data=scaler.transform(X_test), columns=poly_features.columns)"
   ]
  },
  {
   "cell_type": "code",
   "execution_count": null,
   "metadata": {},
   "outputs": [],
   "source": []
  },
  {
   "cell_type": "code",
   "execution_count": null,
   "metadata": {},
   "outputs": [],
   "source": []
  },
  {
   "cell_type": "code",
   "execution_count": 379,
   "metadata": {},
   "outputs": [
    {
     "ename": "RuntimeError",
     "evalue": "The classifier does not expose \"coef_\" or \"feature_importances_\" attributes",
     "output_type": "error",
     "traceback": [
      "\u001b[0;31m---------------------------------------------------------------------------\u001b[0m",
      "\u001b[0;31mRuntimeError\u001b[0m                              Traceback (most recent call last)",
      "\u001b[0;32m<ipython-input-379-cfc60c6c4781>\u001b[0m in \u001b[0;36m<module>\u001b[0;34m\u001b[0m\n\u001b[1;32m      2\u001b[0m \u001b[0mknn\u001b[0m \u001b[0;34m=\u001b[0m \u001b[0mKNeighborsClassifier\u001b[0m\u001b[0;34m(\u001b[0m\u001b[0mn_neighbors\u001b[0m\u001b[0;34m=\u001b[0m\u001b[0;36m3\u001b[0m\u001b[0;34m)\u001b[0m\u001b[0;34m\u001b[0m\u001b[0;34m\u001b[0m\u001b[0m\n\u001b[1;32m      3\u001b[0m \u001b[0mselector\u001b[0m \u001b[0;34m=\u001b[0m \u001b[0mRFECV\u001b[0m\u001b[0;34m(\u001b[0m\u001b[0mestimator\u001b[0m\u001b[0;34m=\u001b[0m\u001b[0mknn\u001b[0m\u001b[0;34m,\u001b[0m \u001b[0mstep\u001b[0m\u001b[0;34m=\u001b[0m\u001b[0;36m2\u001b[0m\u001b[0;34m,\u001b[0m \u001b[0mcv\u001b[0m\u001b[0;34m=\u001b[0m\u001b[0;36m5\u001b[0m\u001b[0;34m,\u001b[0m \u001b[0mscoring\u001b[0m\u001b[0;34m=\u001b[0m\u001b[0;34m'neg_mean_squared_error'\u001b[0m\u001b[0;34m)\u001b[0m\u001b[0;34m\u001b[0m\u001b[0;34m\u001b[0m\u001b[0m\n\u001b[0;32m----> 4\u001b[0;31m \u001b[0mselector\u001b[0m\u001b[0;34m.\u001b[0m\u001b[0mfit\u001b[0m\u001b[0;34m(\u001b[0m\u001b[0mX_train\u001b[0m\u001b[0;34m,\u001b[0m \u001b[0my_train\u001b[0m\u001b[0;34m)\u001b[0m\u001b[0;34m\u001b[0m\u001b[0;34m\u001b[0m\u001b[0m\n\u001b[0m\u001b[1;32m      5\u001b[0m \u001b[0mselected_columns\u001b[0m \u001b[0;34m=\u001b[0m \u001b[0mX_train\u001b[0m\u001b[0;34m.\u001b[0m\u001b[0mcolumns\u001b[0m\u001b[0;34m[\u001b[0m\u001b[0mselector\u001b[0m\u001b[0;34m.\u001b[0m\u001b[0msupport_\u001b[0m\u001b[0;34m]\u001b[0m\u001b[0;34m\u001b[0m\u001b[0;34m\u001b[0m\u001b[0m\n\u001b[1;32m      6\u001b[0m \u001b[0mremoved_columns\u001b[0m \u001b[0;34m=\u001b[0m \u001b[0mX_train\u001b[0m\u001b[0;34m.\u001b[0m\u001b[0mcolumns\u001b[0m\u001b[0;34m[\u001b[0m\u001b[0;34m~\u001b[0m\u001b[0mselector\u001b[0m\u001b[0;34m.\u001b[0m\u001b[0msupport_\u001b[0m\u001b[0;34m]\u001b[0m\u001b[0;34m\u001b[0m\u001b[0;34m\u001b[0m\u001b[0m\n",
      "\u001b[0;32m/anaconda3/lib/python3.7/site-packages/sklearn/feature_selection/rfe.py\u001b[0m in \u001b[0;36mfit\u001b[0;34m(self, X, y, groups)\u001b[0m\n\u001b[1;32m    512\u001b[0m         scores = parallel(\n\u001b[1;32m    513\u001b[0m             \u001b[0mfunc\u001b[0m\u001b[0;34m(\u001b[0m\u001b[0mrfe\u001b[0m\u001b[0;34m,\u001b[0m \u001b[0mself\u001b[0m\u001b[0;34m.\u001b[0m\u001b[0mestimator\u001b[0m\u001b[0;34m,\u001b[0m \u001b[0mX\u001b[0m\u001b[0;34m,\u001b[0m \u001b[0my\u001b[0m\u001b[0;34m,\u001b[0m \u001b[0mtrain\u001b[0m\u001b[0;34m,\u001b[0m \u001b[0mtest\u001b[0m\u001b[0;34m,\u001b[0m \u001b[0mscorer\u001b[0m\u001b[0;34m)\u001b[0m\u001b[0;34m\u001b[0m\u001b[0;34m\u001b[0m\u001b[0m\n\u001b[0;32m--> 514\u001b[0;31m             for train, test in cv.split(X, y, groups))\n\u001b[0m\u001b[1;32m    515\u001b[0m \u001b[0;34m\u001b[0m\u001b[0m\n\u001b[1;32m    516\u001b[0m         \u001b[0mscores\u001b[0m \u001b[0;34m=\u001b[0m \u001b[0mnp\u001b[0m\u001b[0;34m.\u001b[0m\u001b[0msum\u001b[0m\u001b[0;34m(\u001b[0m\u001b[0mscores\u001b[0m\u001b[0;34m,\u001b[0m \u001b[0maxis\u001b[0m\u001b[0;34m=\u001b[0m\u001b[0;36m0\u001b[0m\u001b[0;34m)\u001b[0m\u001b[0;34m\u001b[0m\u001b[0;34m\u001b[0m\u001b[0m\n",
      "\u001b[0;32m/anaconda3/lib/python3.7/site-packages/sklearn/feature_selection/rfe.py\u001b[0m in \u001b[0;36m<genexpr>\u001b[0;34m(.0)\u001b[0m\n\u001b[1;32m    512\u001b[0m         scores = parallel(\n\u001b[1;32m    513\u001b[0m             \u001b[0mfunc\u001b[0m\u001b[0;34m(\u001b[0m\u001b[0mrfe\u001b[0m\u001b[0;34m,\u001b[0m \u001b[0mself\u001b[0m\u001b[0;34m.\u001b[0m\u001b[0mestimator\u001b[0m\u001b[0;34m,\u001b[0m \u001b[0mX\u001b[0m\u001b[0;34m,\u001b[0m \u001b[0my\u001b[0m\u001b[0;34m,\u001b[0m \u001b[0mtrain\u001b[0m\u001b[0;34m,\u001b[0m \u001b[0mtest\u001b[0m\u001b[0;34m,\u001b[0m \u001b[0mscorer\u001b[0m\u001b[0;34m)\u001b[0m\u001b[0;34m\u001b[0m\u001b[0;34m\u001b[0m\u001b[0m\n\u001b[0;32m--> 514\u001b[0;31m             for train, test in cv.split(X, y, groups))\n\u001b[0m\u001b[1;32m    515\u001b[0m \u001b[0;34m\u001b[0m\u001b[0m\n\u001b[1;32m    516\u001b[0m         \u001b[0mscores\u001b[0m \u001b[0;34m=\u001b[0m \u001b[0mnp\u001b[0m\u001b[0;34m.\u001b[0m\u001b[0msum\u001b[0m\u001b[0;34m(\u001b[0m\u001b[0mscores\u001b[0m\u001b[0;34m,\u001b[0m \u001b[0maxis\u001b[0m\u001b[0;34m=\u001b[0m\u001b[0;36m0\u001b[0m\u001b[0;34m)\u001b[0m\u001b[0;34m\u001b[0m\u001b[0;34m\u001b[0m\u001b[0m\n",
      "\u001b[0;32m/anaconda3/lib/python3.7/site-packages/sklearn/feature_selection/rfe.py\u001b[0m in \u001b[0;36m_rfe_single_fit\u001b[0;34m(rfe, estimator, X, y, train, test, scorer)\u001b[0m\n\u001b[1;32m     30\u001b[0m     \u001b[0mX_test\u001b[0m\u001b[0;34m,\u001b[0m \u001b[0my_test\u001b[0m \u001b[0;34m=\u001b[0m \u001b[0m_safe_split\u001b[0m\u001b[0;34m(\u001b[0m\u001b[0mestimator\u001b[0m\u001b[0;34m,\u001b[0m \u001b[0mX\u001b[0m\u001b[0;34m,\u001b[0m \u001b[0my\u001b[0m\u001b[0;34m,\u001b[0m \u001b[0mtest\u001b[0m\u001b[0;34m,\u001b[0m \u001b[0mtrain\u001b[0m\u001b[0;34m)\u001b[0m\u001b[0;34m\u001b[0m\u001b[0;34m\u001b[0m\u001b[0m\n\u001b[1;32m     31\u001b[0m     return rfe._fit(\n\u001b[0;32m---> 32\u001b[0;31m         \u001b[0mX_train\u001b[0m\u001b[0;34m,\u001b[0m \u001b[0my_train\u001b[0m\u001b[0;34m,\u001b[0m \u001b[0;32mlambda\u001b[0m \u001b[0mestimator\u001b[0m\u001b[0;34m,\u001b[0m \u001b[0mfeatures\u001b[0m\u001b[0;34m:\u001b[0m\u001b[0;34m\u001b[0m\u001b[0;34m\u001b[0m\u001b[0m\n\u001b[0m\u001b[1;32m     33\u001b[0m         _score(estimator, X_test[:, features], y_test, scorer)).scores_\n\u001b[1;32m     34\u001b[0m \u001b[0;34m\u001b[0m\u001b[0m\n",
      "\u001b[0;32m/anaconda3/lib/python3.7/site-packages/sklearn/feature_selection/rfe.py\u001b[0m in \u001b[0;36m_fit\u001b[0;34m(self, X, y, step_score)\u001b[0m\n\u001b[1;32m    185\u001b[0m                 \u001b[0mcoefs\u001b[0m \u001b[0;34m=\u001b[0m \u001b[0mgetattr\u001b[0m\u001b[0;34m(\u001b[0m\u001b[0mestimator\u001b[0m\u001b[0;34m,\u001b[0m \u001b[0;34m'feature_importances_'\u001b[0m\u001b[0;34m,\u001b[0m \u001b[0;32mNone\u001b[0m\u001b[0;34m)\u001b[0m\u001b[0;34m\u001b[0m\u001b[0;34m\u001b[0m\u001b[0m\n\u001b[1;32m    186\u001b[0m             \u001b[0;32mif\u001b[0m \u001b[0mcoefs\u001b[0m \u001b[0;32mis\u001b[0m \u001b[0;32mNone\u001b[0m\u001b[0;34m:\u001b[0m\u001b[0;34m\u001b[0m\u001b[0;34m\u001b[0m\u001b[0m\n\u001b[0;32m--> 187\u001b[0;31m                 raise RuntimeError('The classifier does not expose '\n\u001b[0m\u001b[1;32m    188\u001b[0m                                    \u001b[0;34m'\"coef_\" or \"feature_importances_\" '\u001b[0m\u001b[0;34m\u001b[0m\u001b[0;34m\u001b[0m\u001b[0m\n\u001b[1;32m    189\u001b[0m                                    'attributes')\n",
      "\u001b[0;31mRuntimeError\u001b[0m: The classifier does not expose \"coef_\" or \"feature_importances_\" attributes"
     ]
    }
   ],
   "source": [
    "from sklearn.feature_selection import RFECV\n",
    "knn = KNeighborsClassifier(n_neighbors=3)\n",
    "selector = RFECV(estimator=knn, step=2, cv=5, scoring='neg_mean_squared_error')\n",
    "selector.fit(X_train, y_train)\n",
    "selected_columns = X_train.columns[selector.support_]\n",
    "removed_columns = X_train.columns[~selector.support_]\n",
    "len(removed_columns)"
   ]
  },
  {
   "cell_type": "code",
   "execution_count": null,
   "metadata": {},
   "outputs": [],
   "source": []
  },
  {
   "cell_type": "code",
   "execution_count": null,
   "metadata": {},
   "outputs": [],
   "source": []
  },
  {
   "cell_type": "code",
   "execution_count": null,
   "metadata": {},
   "outputs": [],
   "source": []
  },
  {
   "cell_type": "markdown",
   "metadata": {},
   "source": [
    "## 6. Model Evaluation"
   ]
  },
  {
   "cell_type": "code",
   "execution_count": null,
   "metadata": {},
   "outputs": [],
   "source": []
  },
  {
   "cell_type": "code",
   "execution_count": null,
   "metadata": {},
   "outputs": [],
   "source": []
  },
  {
   "cell_type": "code",
   "execution_count": null,
   "metadata": {},
   "outputs": [],
   "source": []
  },
  {
   "cell_type": "code",
   "execution_count": null,
   "metadata": {},
   "outputs": [],
   "source": []
  },
  {
   "cell_type": "code",
   "execution_count": null,
   "metadata": {},
   "outputs": [],
   "source": []
  },
  {
   "cell_type": "markdown",
   "metadata": {},
   "source": [
    "## 7. Final Model"
   ]
  },
  {
   "cell_type": "code",
   "execution_count": null,
   "metadata": {},
   "outputs": [],
   "source": []
  },
  {
   "cell_type": "code",
   "execution_count": null,
   "metadata": {},
   "outputs": [],
   "source": []
  }
 ],
 "metadata": {
  "kernelspec": {
   "display_name": "Python 3",
   "language": "python",
   "name": "python3"
  },
  "language_info": {
   "codemirror_mode": {
    "name": "ipython",
    "version": 3
   },
   "file_extension": ".py",
   "mimetype": "text/x-python",
   "name": "python",
   "nbconvert_exporter": "python",
   "pygments_lexer": "ipython3",
   "version": "3.7.1"
  }
 },
 "nbformat": 4,
 "nbformat_minor": 2
}
